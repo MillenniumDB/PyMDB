{
  "nbformat": 4,
  "nbformat_minor": 0,
  "metadata": {
    "colab": {
      "provenance": []
    },
    "kernelspec": {
      "name": "python3",
      "display_name": "Python 3"
    },
    "language_info": {
      "name": "python"
    },
    "accelerator": "GPU",
    "gpuClass": "standard"
  },
  "cells": [
    {
      "cell_type": "markdown",
      "source": [
        "### Sources:\n",
        "\n",
        "- https://mlabonne.github.io/blog/graphsage/"
      ],
      "metadata": {
        "id": "QijaZJq7EyNz"
      }
    },
    {
      "cell_type": "code",
      "source": [
        "import torch\n",
        "torchversion = torch.__version__\n",
        "\n",
        "# Install PyTorch Scatter, PyTorch Sparse, and PyTorch Geometric\n",
        "!pip install -q torch-scatter -f https://data.pyg.org/whl/torch-{torchversion}.html\n",
        "!pip install -q torch-sparse -f https://data.pyg.org/whl/torch-{torchversion}.html\n",
        "!pip install -q git+https://github.com/pyg-team/pytorch_geometric.git"
      ],
      "metadata": {
        "colab": {
          "base_uri": "https://localhost:8080/"
        },
        "id": "3IAdAfmg77Hz",
        "outputId": "896e45d0-58f5-4655-fd52-c17de4cb3c57"
      },
      "execution_count": 2,
      "outputs": [
        {
          "output_type": "stream",
          "name": "stdout",
          "text": [
            "\u001b[2K     \u001b[90m━━━━━━━━━━━━━━━━━━━━━━━━━━━━━━━━━━━━━━━━\u001b[0m \u001b[32m9.4/9.4 MB\u001b[0m \u001b[31m36.9 MB/s\u001b[0m eta \u001b[36m0:00:00\u001b[0m\n",
            "\u001b[2K     \u001b[90m━━━━━━━━━━━━━━━━━━━━━━━━━━━━━━━━━━━━━━━━\u001b[0m \u001b[32m4.5/4.5 MB\u001b[0m \u001b[31m28.7 MB/s\u001b[0m eta \u001b[36m0:00:00\u001b[0m\n",
            "\u001b[?25h  Installing build dependencies ... \u001b[?25l\u001b[?25hdone\n",
            "  Getting requirements to build wheel ... \u001b[?25l\u001b[?25hdone\n",
            "  Preparing metadata (pyproject.toml) ... \u001b[?25l\u001b[?25hdone\n",
            "\u001b[2K     \u001b[90m━━━━━━━━━━━━━━━━━━━━━━━━━━━━━━━━━━━━━━\u001b[0m \u001b[32m512.4/512.4 KB\u001b[0m \u001b[31m17.8 MB/s\u001b[0m eta \u001b[36m0:00:00\u001b[0m\n",
            "\u001b[2K     \u001b[90m━━━━━━━━━━━━━━━━━━━━━━━━━━━━━━━━━━━━━━\u001b[0m \u001b[32m280.2/280.2 KB\u001b[0m \u001b[31m22.2 MB/s\u001b[0m eta \u001b[36m0:00:00\u001b[0m\n",
            "\u001b[?25h  Building wheel for torch-geometric (pyproject.toml) ... \u001b[?25l\u001b[?25hdone\n"
          ]
        }
      ]
    },
    {
      "cell_type": "markdown",
      "source": [
        "### GraphSAGE Model"
      ],
      "metadata": {
        "id": "ZTdkZGAQ5PJD"
      }
    },
    {
      "cell_type": "code",
      "source": [
        "import torch.nn.functional as F\n",
        "from torch_geometric.nn import SAGEConv\n",
        "\n",
        "class GraphSAGE(torch.nn.Module):\n",
        "    def __init__(self, dim_in, dim_h, dim_out):\n",
        "        super().__init__()\n",
        "        self.sage1 = SAGEConv(dim_in, dim_h)\n",
        "        self.sage2 = SAGEConv(dim_h, dim_out)\n",
        "        \n",
        "    def forward(self, x, edge_index):\n",
        "        h = self.sage1(x, edge_index)\n",
        "        h = torch.relu(h)\n",
        "        h = F.dropout(h, p=0.5, training=self.training)\n",
        "        h = self.sage2(h, edge_index)\n",
        "        # Return (embedding, prediction)\n",
        "        return h, F.log_softmax(h, dim=1)\n",
        "\n",
        "    def fit(self, epochs, node_loader):\n",
        "        self.train()\n",
        "        criterion = torch.nn.CrossEntropyLoss()\n",
        "        optimizer = torch.optim.Adam(self.parameters(), lr=0.01, weight_decay=5e-4)\n",
        "        accuracy = lambda y_pred, y: ((y_pred == y).sum() / len(y)).item()\n",
        "        for epoch in range(epochs + 1):\n",
        "            # Train on batches\n",
        "            for batch in node_loader:\n",
        "                optimizer.zero_grad()\n",
        "                _, out = self(batch.x, batch.edge_index)\n",
        "                \n",
        "                loss = criterion(out, batch.y)\n",
        "                acc = accuracy(out.argmax(dim=1), batch.y)\n",
        "\n",
        "                loss.backward()\n",
        "                optimizer.step()\n",
        "\n",
        "            # Print metrics every 50 epochs\n",
        "            if epoch % 50 == 0:\n",
        "                print(f\"Epoch: {epoch:>3} | Train loss: {loss:.3f} | Train acc: {acc*100:>6.2f}%\")\n",
        "\n",
        "    def predict(self, X, edge_index):\n",
        "        self.eval()\n",
        "        return model(X, edge_index)"
      ],
      "metadata": {
        "id": "ZGp8b3Wz5Lnr"
      },
      "execution_count": 3,
      "outputs": []
    },
    {
      "cell_type": "markdown",
      "source": [
        "### Dataset"
      ],
      "metadata": {
        "id": "wEvpfoCYEUyK"
      }
    },
    {
      "cell_type": "code",
      "source": [
        "from torch_geometric.datasets import Planetoid\n",
        "\n",
        "dataset = Planetoid(root=\".\", name=\"Pubmed\")\n",
        "data = dataset[0]\n",
        "\n",
        "# Print information about the dataset\n",
        "print(f\"Dataset: {dataset}\")\n",
        "print(\"-\"*20)\n",
        "print(f\"Number of graphs   : {len(dataset)}\")\n",
        "print(f\"Number of nodes    : {data.x.shape[0]}\")\n",
        "print(f\"Number of edges    : {data.edge_index.shape[1]}\")\n",
        "print(f\"Number of features : {data.x.shape[1]}\")\n",
        "print(f\"Number of classes  : {dataset.num_classes}\")"
      ],
      "metadata": {
        "colab": {
          "base_uri": "https://localhost:8080/"
        },
        "id": "5z3oza5yEid-",
        "outputId": "d3207f98-f628-4400-dc4a-4cf25c8286a6"
      },
      "execution_count": 4,
      "outputs": [
        {
          "output_type": "stream",
          "name": "stderr",
          "text": [
            "Downloading https://github.com/kimiyoung/planetoid/raw/master/data/ind.pubmed.x\n",
            "Downloading https://github.com/kimiyoung/planetoid/raw/master/data/ind.pubmed.tx\n",
            "Downloading https://github.com/kimiyoung/planetoid/raw/master/data/ind.pubmed.allx\n",
            "Downloading https://github.com/kimiyoung/planetoid/raw/master/data/ind.pubmed.y\n",
            "Downloading https://github.com/kimiyoung/planetoid/raw/master/data/ind.pubmed.ty\n",
            "Downloading https://github.com/kimiyoung/planetoid/raw/master/data/ind.pubmed.ally\n",
            "Downloading https://github.com/kimiyoung/planetoid/raw/master/data/ind.pubmed.graph\n",
            "Downloading https://github.com/kimiyoung/planetoid/raw/master/data/ind.pubmed.test.index\n",
            "Processing...\n"
          ]
        },
        {
          "output_type": "stream",
          "name": "stdout",
          "text": [
            "Dataset: Pubmed()\n",
            "--------------------\n",
            "Number of graphs   : 1\n",
            "Number of nodes    : 19717\n",
            "Number of edges    : 88648\n",
            "Number of features : 500\n",
            "Number of classes  : 3\n"
          ]
        },
        {
          "output_type": "stream",
          "name": "stderr",
          "text": [
            "Done!\n"
          ]
        }
      ]
    },
    {
      "cell_type": "markdown",
      "source": [
        "### Neighbor loader"
      ],
      "metadata": {
        "id": "naAOfA2XQZmH"
      }
    },
    {
      "cell_type": "markdown",
      "source": [
        "#### 1. PyTorch implementation\n"
      ],
      "metadata": {
        "id": "oG-kIlAtQbld"
      }
    },
    {
      "cell_type": "code",
      "source": [
        "from torch_geometric.loader import NeighborLoader\n",
        "node_loader = NeighborLoader(\n",
        "    data,\n",
        "    num_neighbors=[5, 10],\n",
        "    batch_size=16,\n",
        "    input_nodes=data.train_mask\n",
        ")\n",
        "\n",
        "for i, elem in enumerate(node_loader):\n",
        "    print(f\"Subgraph {i}:\", elem)\n",
        "print(len(node_loader))"
      ],
      "metadata": {
        "colab": {
          "base_uri": "https://localhost:8080/"
        },
        "id": "AWG8NiqNQZRG",
        "outputId": "d220edcb-2e0b-41c2-8908-f1323b9d3afd"
      },
      "execution_count": 5,
      "outputs": [
        {
          "output_type": "stream",
          "name": "stdout",
          "text": [
            "Subgraph 0: Data(x=[408, 500], edge_index=[2, 455], y=[408], train_mask=[408], val_mask=[408], test_mask=[408], n_id=[408], e_id=[455], input_id=[16], batch_size=16)\n",
            "Subgraph 1: Data(x=[265, 500], edge_index=[2, 307], y=[265], train_mask=[265], val_mask=[265], test_mask=[265], n_id=[265], e_id=[307], input_id=[16], batch_size=16)\n",
            "Subgraph 2: Data(x=[301, 500], edge_index=[2, 342], y=[301], train_mask=[301], val_mask=[301], test_mask=[301], n_id=[301], e_id=[342], input_id=[16], batch_size=16)\n",
            "Subgraph 3: Data(x=[193, 500], edge_index=[2, 226], y=[193], train_mask=[193], val_mask=[193], test_mask=[193], n_id=[193], e_id=[226], input_id=[12], batch_size=12)\n",
            "4\n"
          ]
        }
      ]
    },
    {
      "cell_type": "markdown",
      "source": [
        "#### 2. Custom implementation\n",
        "\n",
        "- The input nodes are the `seed_nodes`\n",
        "- Each iteration takes at most `batch_size` from `seed_nodes` and ends up getting neighbors according to the `num_neighbors` list\n",
        "- The return type must be a `torch_geometric.data.Data` object with at least `x := [node_id, features]` and `y := [labels]` defined\n",
        "- I assume that `seed_nodes` were shuffled and selected previously"
      ],
      "metadata": {
        "id": "G74TEhoyQeJb"
      }
    },
    {
      "cell_type": "code",
      "source": [
        "from torch_geometric.data import Data\n",
        "import math\n",
        "import numpy as np\n",
        "\n",
        "class MyNeighborLoader:\n",
        "    def __init__(self, \n",
        "                 seed_nodes,\n",
        "                 num_neighbors, \n",
        "                 batch_size\n",
        "        ):\n",
        "        self.seed_nodes = seed_nodes\n",
        "        self.num_neighbors = num_neighbors\n",
        "        self.batch_size = batch_size\n",
        "\n",
        "    def __iter__(self):\n",
        "        self.current_batch = 0\n",
        "        return self\n",
        "                \n",
        "    def query_build_subgraph(self, lo, hi):\n",
        "        indices = self.seed_nodes[lo:hi]\n",
        "        x = data.x[indices]\n",
        "        y = data.y[indices]\n",
        "        # TODO: Query for neighbors\n",
        "        # TODO: Get edges\n",
        "        # TODO: Relabel nodes and edges according to the node sample\n",
        "        return Data(x=x, y=y, edge_index=torch.tensor([[],[]], dtype=int))\n",
        "\n",
        "    def __next__(self):\n",
        "        lo = self.current_batch * self.batch_size\n",
        "        if lo >= len(self.seed_nodes): \n",
        "            raise StopIteration\n",
        "        self.current_batch += 1\n",
        "        hi = self.current_batch * self.batch_size\n",
        "        return self.query_build_subgraph(lo, hi)\n",
        "\n",
        "    def __len__(self):\n",
        "        return math.ceil(len(self.seed_nodes) / self.batch_size)\n",
        "\n",
        "loader_args = {\n",
        "    # An 1-D array with randomly picked node_ids\n",
        "    \"seed_nodes\": np.random.randint(0, high=data.x.shape[0], size=64, dtype=int),\n",
        "    # Neighborhood sizes at distance index\n",
        "    \"num_neighbors\": [5, 10],\n",
        "    # seed_nodes picked per iteration\n",
        "    \"batch_size\": 16,\n",
        "}\n",
        "\n",
        "my_loader = MyNeighborLoader(**loader_args)\n",
        "for i, elem in enumerate(my_loader):\n",
        "    print(f\"Subgraph {i}:\", elem)\n",
        "print(len(my_loader))"
      ],
      "metadata": {
        "colab": {
          "base_uri": "https://localhost:8080/"
        },
        "id": "DdYLDbj4QhJz",
        "outputId": "3ceb54ee-a059-49c4-dd3b-2f1e193eda96"
      },
      "execution_count": 20,
      "outputs": [
        {
          "output_type": "stream",
          "name": "stdout",
          "text": [
            "Subgraph 0: Data(x=[16, 500], edge_index=[2, 0], y=[16])\n",
            "Subgraph 1: Data(x=[16, 500], edge_index=[2, 0], y=[16])\n",
            "Subgraph 2: Data(x=[16, 500], edge_index=[2, 0], y=[16])\n",
            "Subgraph 3: Data(x=[16, 500], edge_index=[2, 0], y=[16])\n",
            "4\n"
          ]
        }
      ]
    },
    {
      "cell_type": "markdown",
      "source": [
        "### Model instance"
      ],
      "metadata": {
        "id": "xZIZXe5tGsUd"
      }
    },
    {
      "cell_type": "code",
      "source": [
        "dim_in = data.x.shape[1]\n",
        "dim_h = 64\n",
        "dim_out = dataset.num_classes\n",
        "model = GraphSAGE(dim_in, dim_h, dim_out)\n",
        "print(model)"
      ],
      "metadata": {
        "colab": {
          "base_uri": "https://localhost:8080/"
        },
        "id": "4dwD92_uFgBc",
        "outputId": "ba636b53-80bd-4e9a-b09a-1dbe3639c014"
      },
      "execution_count": 7,
      "outputs": [
        {
          "output_type": "stream",
          "name": "stdout",
          "text": [
            "GraphSAGE(\n",
            "  (sage1): SAGEConv(500, 64, aggr=mean)\n",
            "  (sage2): SAGEConv(64, 3, aggr=mean)\n",
            ")\n"
          ]
        }
      ]
    },
    {
      "cell_type": "markdown",
      "source": [
        "### Torch NeighborLoader"
      ],
      "metadata": {
        "id": "Tc_JphLEVVFN"
      }
    },
    {
      "cell_type": "code",
      "source": [
        "model.fit(\n",
        "    epochs=200,\n",
        "    node_loader=node_loader\n",
        ")"
      ],
      "metadata": {
        "colab": {
          "base_uri": "https://localhost:8080/"
        },
        "id": "XhgacQ5YHP3E",
        "outputId": "ac96bc42-bf9a-46c0-e87f-70c15b6d0259"
      },
      "execution_count": 8,
      "outputs": [
        {
          "output_type": "stream",
          "name": "stdout",
          "text": [
            "Epoch:   0 | Train loss: 1.117 | Train acc:  23.16%\n",
            "Epoch:  50 | Train loss: 0.214 | Train acc:  91.37%\n",
            "Epoch: 100 | Train loss: 0.188 | Train acc:  94.47%\n",
            "Epoch: 150 | Train loss: 0.167 | Train acc:  95.36%\n",
            "Epoch: 200 | Train loss: 0.146 | Train acc:  95.02%\n"
          ]
        }
      ]
    },
    {
      "cell_type": "code",
      "source": [
        "emb, out = model.predict(data.x, data.edge_index)\n",
        "y_pred = out.argmax(axis=1)\n",
        "acc = ((y_pred == data.y).sum() / len(y_pred)).item()\n",
        "print(\"Dataset accuracy:\", acc)"
      ],
      "metadata": {
        "colab": {
          "base_uri": "https://localhost:8080/"
        },
        "id": "9LTF6dkXVbSI",
        "outputId": "8be66ef6-891c-4446-cfa7-0e524916a550"
      },
      "execution_count": 12,
      "outputs": [
        {
          "output_type": "stream",
          "name": "stdout",
          "text": [
            "0.8360805511474609\n"
          ]
        }
      ]
    },
    {
      "cell_type": "markdown",
      "source": [
        "### My NeighborLoader"
      ],
      "metadata": {
        "id": "eEAp2OGjVYD_"
      }
    },
    {
      "cell_type": "code",
      "source": [
        "model.fit(\n",
        "    epochs=200,\n",
        "    node_loader=my_loader\n",
        ")"
      ],
      "metadata": {
        "colab": {
          "base_uri": "https://localhost:8080/"
        },
        "id": "w1B7zooGUJel",
        "outputId": "efade288-3a7b-4bbb-dcd5-99c12ce91955"
      },
      "execution_count": 21,
      "outputs": [
        {
          "output_type": "stream",
          "name": "stdout",
          "text": [
            "Epoch:   0 | Train loss: 0.648 | Train acc:  81.25%\n",
            "Epoch:  50 | Train loss: 0.025 | Train acc: 100.00%\n",
            "Epoch: 100 | Train loss: 0.018 | Train acc: 100.00%\n",
            "Epoch: 150 | Train loss: 0.012 | Train acc: 100.00%\n",
            "Epoch: 200 | Train loss: 0.016 | Train acc: 100.00%\n"
          ]
        }
      ]
    },
    {
      "cell_type": "code",
      "source": [
        "emb, out = model.predict(data.x, data.edge_index)\n",
        "y_pred = out.argmax(axis=1)\n",
        "acc = ((y_pred == data.y).sum() / len(y_pred)).item()\n",
        "print(\"Dataset accuracy:\", acc)"
      ],
      "metadata": {
        "colab": {
          "base_uri": "https://localhost:8080/"
        },
        "id": "j_LYKkKAZgs-",
        "outputId": "76ec3b3f-3b66-4de3-c99b-70b9a03ccb9a"
      },
      "execution_count": 22,
      "outputs": [
        {
          "output_type": "stream",
          "name": "stdout",
          "text": [
            "0.7153725028038025\n"
          ]
        }
      ]
    }
  ]
}