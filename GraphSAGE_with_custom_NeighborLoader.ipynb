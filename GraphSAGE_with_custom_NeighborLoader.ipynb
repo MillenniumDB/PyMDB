{
  "nbformat": 4,
  "nbformat_minor": 0,
  "metadata": {
    "colab": {
      "provenance": []
    },
    "kernelspec": {
      "name": "python3",
      "display_name": "Python 3"
    },
    "language_info": {
      "name": "python"
    },
    "accelerator": "GPU",
    "gpuClass": "standard"
  },
  "cells": [
    {
      "cell_type": "markdown",
      "source": [
        "### Sources:\n",
        "\n",
        "- https://mlabonne.github.io/blog/graphsage/"
      ],
      "metadata": {
        "id": "QijaZJq7EyNz"
      }
    },
    {
      "cell_type": "code",
      "source": [
        "import torch\n",
        "torchversion = torch.__version__\n",
        "\n",
        "# Install PyTorch Scatter, PyTorch Sparse, and PyTorch Geometric\n",
        "!pip install -q torch-scatter -f https://data.pyg.org/whl/torch-{torchversion}.html\n",
        "!pip install -q torch-sparse -f https://data.pyg.org/whl/torch-{torchversion}.html\n",
        "!pip install -q git+https://github.com/pyg-team/pytorch_geometric.git"
      ],
      "metadata": {
        "colab": {
          "base_uri": "https://localhost:8080/"
        },
        "id": "3IAdAfmg77Hz",
        "outputId": "6324e2df-4061-4eb8-b406-d875107fe6a6"
      },
      "execution_count": 1,
      "outputs": [
        {
          "output_type": "stream",
          "name": "stdout",
          "text": [
            "  Installing build dependencies ... \u001b[?25l\u001b[?25hdone\n",
            "  Getting requirements to build wheel ... \u001b[?25l\u001b[?25hdone\n",
            "  Preparing metadata (pyproject.toml) ... \u001b[?25l\u001b[?25hdone\n"
          ]
        }
      ]
    },
    {
      "cell_type": "markdown",
      "source": [
        "### GraphSAGE Model"
      ],
      "metadata": {
        "id": "ZTdkZGAQ5PJD"
      }
    },
    {
      "cell_type": "code",
      "source": [
        "import torch.nn.functional as F\n",
        "from torch_geometric.nn import SAGEConv\n",
        "\n",
        "class GraphSAGE(torch.nn.Module):\n",
        "    def __init__(self, dim_in, dim_h, dim_out):\n",
        "        super().__init__()\n",
        "        self.sage1 = SAGEConv(dim_in, dim_h)\n",
        "        self.sage2 = SAGEConv(dim_h, dim_out)\n",
        "        \n",
        "    def forward(self, x, edge_index):\n",
        "        h = self.sage1(x, edge_index)\n",
        "        h = torch.relu(h)\n",
        "        h = F.dropout(h, p=0.5, training=self.training)\n",
        "        h = self.sage2(x, edge_index)\n",
        "        # Return (embedding, prediction)\n",
        "        return h, F.log_softmax(h, dim=1)\n",
        "\n",
        "    def fit(self, epochs, node_loader):\n",
        "        criterion = torch.nn.CrossEntropyLoss()\n",
        "        optimizer = torch.optim.Adam(self.parameters(), lr=0.01, weight_decay=53-4)\n",
        "        accuracy = lambda pred_y, y: ((pred_y == y).sum() / len(y)).item()\n",
        "\n",
        "        self.train()\n",
        "        for epoch in range(epochs + 1):\n",
        "            # Train on batches\n",
        "            for batch in node_loader:\n",
        "                optimizer.zero_grad()\n",
        "                _, pred = self(batch.x, batch.edge_index)\n",
        "                \n",
        "                loss = criterion(pred, batch.y)\n",
        "                accuracy = accuracy(pred.argmax(dim=1), batch.y)\n",
        "\n",
        "                loss.backward()\n",
        "                optimizer.step()\n",
        "\n",
        "            # Print metrics every 10 epochs\n",
        "            if epoch % 10 == 0:\n",
        "                print(f\"Epoch          : {epoch}\")\n",
        "                print(f\"Train loss     : {loss}\")\n",
        "                print(f\"Train accuracy : {accuracy}\")\n",
        "                print(\"-\" * 30)"
      ],
      "metadata": {
        "id": "ZGp8b3Wz5Lnr"
      },
      "execution_count": 2,
      "outputs": []
    },
    {
      "cell_type": "markdown",
      "source": [
        "### Dataset"
      ],
      "metadata": {
        "id": "wEvpfoCYEUyK"
      }
    },
    {
      "cell_type": "code",
      "source": [
        "from torch_geometric.datasets import Planetoid\n",
        "\n",
        "dataset = Planetoid(root=\".\", name=\"Pubmed\")\n",
        "data = dataset[0]\n",
        "\n",
        "# Print information about the dataset\n",
        "print(f\"Dataset: {dataset}\")\n",
        "print(\"-\"*20)\n",
        "print(f\"Number of graphs   : {len(dataset)}\")\n",
        "print(f\"Number of nodes    : {data.x.shape[0]}\")\n",
        "print(f\"Number of edges    : {data.edge_index.shape[1]}\")\n",
        "print(f\"Number of features : {data.x.shape[1]}\")\n",
        "print(f\"Number of classes  : {dataset.num_classes}\")"
      ],
      "metadata": {
        "colab": {
          "base_uri": "https://localhost:8080/"
        },
        "id": "5z3oza5yEid-",
        "outputId": "98fd9149-8714-4ac6-cb5e-5efae401a69d"
      },
      "execution_count": 3,
      "outputs": [
        {
          "output_type": "stream",
          "name": "stdout",
          "text": [
            "Dataset: Pubmed()\n",
            "--------------------\n",
            "Number of graphs   : 1\n",
            "Number of nodes    : 19717\n",
            "Number of edges    : 88648\n",
            "Number of features : 500\n",
            "Number of classes  : 3\n"
          ]
        }
      ]
    },
    {
      "cell_type": "code",
      "source": [
        "from torch_geometric.data import Data\n",
        "# Note: \n",
        "# The entire edge index wouldn't be necessary for a custom neighbor loader \n",
        "# implementation using MillenniumDB\n",
        "\n",
        "X_train = data.x[data.train_mask]\n",
        "y_train = data.y[data.train_mask]\n",
        "data_train = Data(x=X_train, y=y_train, edge_index=data.edge_index)\n",
        "\n",
        "X_test = data.x[data.test_mask]\n",
        "y_test = data.y[data.test_mask]\n",
        "data_test = Data(x=X_test, y=y_test, edge_index=data.edge_index)"
      ],
      "metadata": {
        "id": "rqxbVu61OVnb"
      },
      "execution_count": 10,
      "outputs": []
    },
    {
      "cell_type": "markdown",
      "source": [
        "### Neighbor loader"
      ],
      "metadata": {
        "id": "naAOfA2XQZmH"
      }
    },
    {
      "cell_type": "markdown",
      "source": [
        "#### 1. PyTorch implementation (Just for inspiration)\n",
        "\n"
      ],
      "metadata": {
        "id": "oG-kIlAtQbld"
      }
    },
    {
      "cell_type": "code",
      "source": [
        "from torch_geometric.loader import NeighborLoader\n",
        "node_loader = NeighborLoader(\n",
        "    data,\n",
        "    num_neighbors=[5, 5],\n",
        "    batch_size=128\n",
        ")\n",
        "\n",
        "for i, batch in enumerate(node_loader):\n",
        "    print(len(batch), batch)\n",
        "    if i>0 and i % 3 == 0:\n",
        "        break\n",
        "print(len(node_loader))"
      ],
      "metadata": {
        "colab": {
          "base_uri": "https://localhost:8080/"
        },
        "id": "AWG8NiqNQZRG",
        "outputId": "1b34760a-dbab-4156-87c0-9fadb13a3a3d"
      },
      "execution_count": 17,
      "outputs": [
        {
          "output_type": "stream",
          "name": "stdout",
          "text": [
            "10 Data(x=[1475, 500], edge_index=[2, 1698], y=[1475], train_mask=[1475], val_mask=[1475], test_mask=[1475], n_id=[1475], e_id=[1698], input_id=[128], batch_size=128)\n",
            "10 Data(x=[1400, 500], edge_index=[2, 1566], y=[1400], train_mask=[1400], val_mask=[1400], test_mask=[1400], n_id=[1400], e_id=[1566], input_id=[128], batch_size=128)\n",
            "10 Data(x=[1413, 500], edge_index=[2, 1624], y=[1413], train_mask=[1413], val_mask=[1413], test_mask=[1413], n_id=[1413], e_id=[1624], input_id=[128], batch_size=128)\n",
            "10 Data(x=[1487, 500], edge_index=[2, 1743], y=[1487], train_mask=[1487], val_mask=[1487], test_mask=[1487], n_id=[1487], e_id=[1743], input_id=[128], batch_size=128)\n",
            "155\n"
          ]
        }
      ]
    },
    {
      "cell_type": "markdown",
      "source": [
        "#### 2. Custom implementation\n",
        "\n",
        "- The input nodes are the \"seed nodes\"\n",
        "- Each iteration takes `batch_size` seed nodes and ends up getting neighbors according to the `num_neighbors` list\n",
        "- The return type must be a `torch_geometric.data.Data` object with at least `x := [node_id, features]` and `y := [labels]` defined"
      ],
      "metadata": {
        "id": "G74TEhoyQeJb"
      }
    },
    {
      "cell_type": "code",
      "source": [
        "# TODO"
      ],
      "metadata": {
        "id": "DdYLDbj4QhJz"
      },
      "execution_count": null,
      "outputs": []
    },
    {
      "cell_type": "markdown",
      "source": [
        "### Model instance"
      ],
      "metadata": {
        "id": "xZIZXe5tGsUd"
      }
    },
    {
      "cell_type": "code",
      "source": [
        "dim_in = data.x.shape[1]\n",
        "dim_h = 64 # You can tune this\n",
        "dim_out = dataset.num_classes\n",
        "model = GraphSAGE(dim_in, dim_h, dim_out)\n",
        "print(model)"
      ],
      "metadata": {
        "colab": {
          "base_uri": "https://localhost:8080/"
        },
        "id": "4dwD92_uFgBc",
        "outputId": "74ab93e0-4c37-4a27-edaf-6085d3d529c6"
      },
      "execution_count": 11,
      "outputs": [
        {
          "output_type": "stream",
          "name": "stdout",
          "text": [
            "GraphSAGE(\n",
            "  (sage1): SAGEConv(500, 64, aggr=mean)\n",
            "  (sage2): SAGEConv(64, 3, aggr=mean)\n",
            ")\n"
          ]
        }
      ]
    },
    {
      "cell_type": "code",
      "source": [
        "model.fit(\n",
        "    epochs=300,\n",
        "    node_loader=node_loader\n",
        ")"
      ],
      "metadata": {
        "id": "XhgacQ5YHP3E"
      },
      "execution_count": 15,
      "outputs": []
    }
  ]
}