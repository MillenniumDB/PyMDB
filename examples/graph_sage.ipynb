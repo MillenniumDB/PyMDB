{
 "cells": [
  {
   "attachments": {},
   "cell_type": "markdown",
   "metadata": {},
   "source": [
    "# GraphSAGE"
   ]
  },
  {
   "cell_type": "code",
   "execution_count": 57,
   "metadata": {},
   "outputs": [],
   "source": [
    "# Necessary to import from sibling directory\n",
    "import sys\n",
    "sys.path.append(\"..\")\n",
    "\n",
    "from pymdb import MDBClient, BatchLoader, NodeIterator, FeatureStoreManager\n",
    "\n",
    "import torch\n",
    "import torch.nn.functional as F\n",
    "from torch_geometric.nn import SAGEConv\n"
   ]
  },
  {
   "attachments": {},
   "cell_type": "markdown",
   "metadata": {},
   "source": [
    "## Model"
   ]
  },
  {
   "cell_type": "code",
   "execution_count": 58,
   "metadata": {},
   "outputs": [],
   "source": [
    "class GraphSAGE(torch.nn.Module):\n",
    "    def __init__(self, dim_in: int, dim_h: int, dim_out: int, num_layers: int):\n",
    "        super().__init__()\n",
    "        self.dim_in = dim_in\n",
    "        self.dim_h = dim_h\n",
    "        self.dim_out = dim_out\n",
    "        self.num_layers = num_layers\n",
    "\n",
    "        if num_layers < 2:\n",
    "            raise ValueError(\"Number of layers must be greater than 1\")\n",
    "        self.layers = torch.nn.ModuleList()\n",
    "        self.layers.append(SAGEConv(dim_in, dim_h))\n",
    "        for _ in range(num_layers - 2):\n",
    "            self.layers.append(SAGEConv(dim_h, dim_h))\n",
    "        self.layers.append(SAGEConv(dim_h, dim_out))\n",
    "\n",
    "    def forward(\n",
    "        self,\n",
    "        node_features: torch.Tensor,  # [num_nodes, feature_size]\n",
    "        edge_index: torch.Tensor,  # [2, feature_size]\n",
    "    ):\n",
    "        h = node_features\n",
    "        for layer in self.layers[:-1]:\n",
    "            h = layer(h, edge_index)\n",
    "            h = F.relu(h)\n",
    "            h = F.dropout(h, p=0.5, training=self.training)\n",
    "        h = self.layers[-1](h, edge_index)\n",
    "        return h, F.log_softmax(h, dim=1)  # (embedding, prediction)\n",
    "\n",
    "    def fit(self, epochs, batch_loader):\n",
    "        self.train()\n",
    "        # Initialize parameters\n",
    "        for layer in self.layers:\n",
    "            layer.reset_parameters()\n",
    "        criterion = torch.nn.CrossEntropyLoss()\n",
    "        optimizer = torch.optim.Adam(self.parameters(), lr=0.01, weight_decay=5e-4)\n",
    "        accuracy = lambda y_pred, y: ((y_pred == y).sum() / len(y)).item()\n",
    "        for epoch in range(epochs + 1):\n",
    "            # Train on batches\n",
    "            for batch in batch_loader:\n",
    "                optimizer.zero_grad()\n",
    "                _, out = self(batch.node_features, batch.edge_index)\n",
    "\n",
    "                loss = criterion(out, batch.node_labels)\n",
    "                acc = accuracy(out.argmax(dim=1), batch.node_labels)\n",
    "\n",
    "                loss.backward()\n",
    "                optimizer.step()\n",
    "\n",
    "            # Print metrics every 50 epochs\n",
    "            if epoch % 50 == 0:\n",
    "                print(\n",
    "                    f\"Epoch: {epoch:>3} | Train loss: {loss:.3f} | Train acc: {acc*100:>6.2f}%\"\n",
    "                )\n",
    "\n",
    "    def predict(\n",
    "        self,\n",
    "        client: \"MDBClient\",\n",
    "        initial_store_name: str,\n",
    "        sampler: \"Sampler\",\n",
    "        batch_size: int,\n",
    "    ):\n",
    "        \"\"\"\n",
    "        Maybe it would be better to use something like a batch loader that receives a\n",
    "        batch of node_ids as seed nodes and return a subgraph where:\n",
    "        1. The first node_ids.size() features are the seed nodes features on the same order\n",
    "        2. The remaining nodes are the neighbors of the seed nodes at depth 1\n",
    "        3. The edges are the ones between the seed nodes and their neighbors\n",
    "\n",
    "        Then the output would be the slice of the matrix [0:node_ids.size()]\n",
    "\n",
    "        Notes:\n",
    "        - Batches should have the original node_ids for storing the embeddings\n",
    "        - Maybe FeatureStore should be closed after each usage in both batch loader and\n",
    "          node iterator. This is because during the evaluation it will be modified and\n",
    "          the changes should be saved between iterations\n",
    "        - Maybe it is necessary to check if FeatureStore is closed before using it\n",
    "          throwing an exception from C++\n",
    "\n",
    "        TODO: Implement this feature (multi_insert_tensor)\n",
    "        \"\"\"\n",
    "        self.eval()\n",
    "\n",
    "        fsm = FeatureStoreManager(client)\n",
    "        node_iterator = NodeIterator(client=client, batch_size=batch_size)\n",
    "\n",
    "        store_names = fsm.list()\n",
    "\n",
    "        if \"temp1\" in store_names:\n",
    "            fsm.remove(\"temp1\")\n",
    "        if \"temp2\" in store_names:\n",
    "            fsm.remove(\"temp2\")\n",
    "        if \"final\" in store_names:\n",
    "            fsm.remove(\"final\")\n",
    "\n",
    "        fsm.create(name=\"temp1\", feature_size=self.dim_h)\n",
    "        fsm.create(name=\"temp2\", feature_size=self.dim_h)\n",
    "        fsm.create(name=\"final\", feature_size=self.dim_out)\n",
    "\n",
    "        initial_store = fsm.open(initial_store_name)\n",
    "        prev_store = fsm.open(\"temp1\")\n",
    "        curr_store = fsm.open(\"temp2\")\n",
    "        final_store = fsm.open(\"final\")\n",
    "\n",
    "        print(f\"Evaluating layer 1/{self.num_layers}\")\n",
    "        for node_ids in node_iterator:\n",
    "            node_id = node_ids[0]\n",
    "            # TODO: neighbor_ids = sampler.neighbors(node_id=node_id, num_neighbors=5)\n",
    "            neighbor_ids = []\n",
    "            node_features = initial_store[[node_id, *neighbor_ids]]\n",
    "            edge_index = torch.tensor(\n",
    "                [[node_id] * len(neighbor_ids), neighbor_ids], dtype=torch.long\n",
    "            )\n",
    "\n",
    "            h = self.layers[0](node_features, edge_index)\n",
    "            h = F.relu(h)\n",
    "            h = F.dropout(h, p=0.5, training=self.training)\n",
    "            prev_store[node_id] = h[0]\n",
    "\n",
    "        # From now the variable prev_store is used for READ ONLY, while curr_store is\n",
    "        # used for WRITE ONLY\n",
    "        for idx, layer in enumerate(self.layers[1:-1]):\n",
    "            print(f\"Evaluating layer {idx+2}/{self.num_layers}\")\n",
    "            for node_ids in node_iterator:\n",
    "                node_id = node_ids[0]\n",
    "                # TODO: neighbor_ids = sampler.neighbors(node_id=node_id, num_neighbors=5)\n",
    "                neighbor_ids = []\n",
    "                node_features = prev_store[[node_id, *neighbor_ids]]\n",
    "                edge_index = torch.tensor(\n",
    "                    [[node_id] * len(neighbor_ids), neighbor_ids], dtype=torch.long\n",
    "                )\n",
    "\n",
    "                h = layer(node_features, edge_index)\n",
    "                h = F.relu(h)\n",
    "                h = F.dropout(h, p=0.5, training=self.training)\n",
    "                curr_store[node_id] = h[0]\n",
    "            # Swap store references\n",
    "            prev_store, curr_store = curr_store, prev_store\n",
    "\n",
    "        print(f\"Evaluating layer {self.num_layers}/{self.num_layers}\")\n",
    "        for node_ids in node_iterator:\n",
    "            node_id = node_ids[0]\n",
    "            # TODO: neighbor_ids = sampler.neighbors(node_id=node_id, num_neighbors=5)\n",
    "            neighbor_ids = []\n",
    "            node_features = prev_store[[node_id, *neighbor_ids]]\n",
    "            edge_index = torch.tensor(\n",
    "                [[node_id] * len(neighbor_ids), neighbor_ids], dtype=torch.long\n",
    "            )\n",
    "            h = self.layers[-1](node_features, edge_index)\n",
    "            final_store[node_id] = h[0]\n",
    "\n",
    "        initial_store.close()\n",
    "        prev_store.close()\n",
    "        curr_store.close()\n",
    "        final_store.close()\n",
    "\n",
    "        # Remove temporary stores\n",
    "        fsm.remove(\"temp1\")\n",
    "        fsm.remove(\"temp2\")\n"
   ]
  },
  {
   "attachments": {},
   "cell_type": "markdown",
   "metadata": {},
   "source": [
    "## Train"
   ]
  },
  {
   "cell_type": "code",
   "execution_count": 59,
   "metadata": {},
   "outputs": [
    {
     "name": "stdout",
     "output_type": "stream",
     "text": [
      "GraphSAGE(\n",
      "  (layers): ModuleList(\n",
      "    (0): SAGEConv(128, 64, aggr=mean)\n",
      "    (1): SAGEConv(64, 64, aggr=mean)\n",
      "    (2): SAGEConv(64, 64, aggr=mean)\n",
      "    (3): SAGEConv(64, 64, aggr=mean)\n",
      "    (4): SAGEConv(64, 2, aggr=mean)\n",
      "  )\n",
      ")\n",
      "Epoch:   0 | Train loss: 0.538 | Train acc:  83.26%\n",
      "Epoch:  50 | Train loss: 0.299 | Train acc:  87.97%\n"
     ]
    }
   ],
   "source": [
    "with MDBClient() as client:\n",
    "    # TODO: sampler = Sampler(client=client)\n",
    "    # TODO: seeds = sampler.nodes(num_nodes=1000)\n",
    "\n",
    "    batch_loader = BatchLoader(\n",
    "        client=client,\n",
    "        feature_store_name=\"github\",\n",
    "        num_seeds=128,\n",
    "        batch_size=64,\n",
    "        neighbor_sizes=[10, 5],\n",
    "        seed=2023, # TODO: Remove seeded (not used)\n",
    "    )\n",
    "\n",
    "    model = GraphSAGE(dim_in=128, dim_h=64, dim_out=2, num_layers=5)\n",
    "    print(model)\n",
    "    model.fit(epochs=50, batch_loader=batch_loader)\n"
   ]
  },
  {
   "attachments": {},
   "cell_type": "markdown",
   "metadata": {},
   "source": [
    "## Predict"
   ]
  },
  {
   "cell_type": "code",
   "execution_count": 60,
   "metadata": {},
   "outputs": [
    {
     "name": "stdout",
     "output_type": "stream",
     "text": [
      "Evaluating layer 1/5\n",
      "Evaluating layer 2/5\n",
      "Evaluating layer 3/5\n",
      "Evaluating layer 4/5\n",
      "Evaluating layer 5/5\n"
     ]
    },
    {
     "ename": "AttributeError",
     "evalue": "'FeatureStoreManager' object has no attribute 'close'",
     "output_type": "error",
     "traceback": [
      "\u001b[0;31m---------------------------------------------------------------------------\u001b[0m",
      "\u001b[0;31mAttributeError\u001b[0m                            Traceback (most recent call last)",
      "Cell \u001b[0;32mIn[60], line 2\u001b[0m\n\u001b[1;32m      1\u001b[0m \u001b[39mwith\u001b[39;00m MDBClient() \u001b[39mas\u001b[39;00m client:\n\u001b[0;32m----> 2\u001b[0m     model\u001b[39m.\u001b[39;49mpredict(\n\u001b[1;32m      3\u001b[0m         client\u001b[39m=\u001b[39;49mclient,\n\u001b[1;32m      4\u001b[0m         initial_store_name\u001b[39m=\u001b[39;49m\u001b[39m\"\u001b[39;49m\u001b[39mgithub\u001b[39;49m\u001b[39m\"\u001b[39;49m,\n\u001b[1;32m      5\u001b[0m         sampler\u001b[39m=\u001b[39;49m\u001b[39mNone\u001b[39;49;00m,\n\u001b[1;32m      6\u001b[0m         batch_size\u001b[39m=\u001b[39;49m\u001b[39m1\u001b[39;49m,\n\u001b[1;32m      7\u001b[0m     )\n",
      "Cell \u001b[0;32mIn[58], line 152\u001b[0m, in \u001b[0;36mGraphSAGE.predict\u001b[0;34m(self, client, initial_store_name, sampler, batch_size)\u001b[0m\n\u001b[1;32m    149\u001b[0m     h \u001b[39m=\u001b[39m \u001b[39mself\u001b[39m\u001b[39m.\u001b[39mlayers[\u001b[39m-\u001b[39m\u001b[39m1\u001b[39m](node_features, edge_index)\n\u001b[1;32m    150\u001b[0m     final_store[node_id] \u001b[39m=\u001b[39m h[\u001b[39m0\u001b[39m]\n\u001b[0;32m--> 152\u001b[0m fsm\u001b[39m.\u001b[39;49mclose(initial_store\u001b[39m.\u001b[39mname)\n\u001b[1;32m    153\u001b[0m fsm\u001b[39m.\u001b[39mclose(prev_store\u001b[39m.\u001b[39mname)\n\u001b[1;32m    154\u001b[0m fsm\u001b[39m.\u001b[39mclose(curr_store\u001b[39m.\u001b[39mname)\n",
      "\u001b[0;31mAttributeError\u001b[0m: 'FeatureStoreManager' object has no attribute 'close'"
     ]
    }
   ],
   "source": [
    "with MDBClient() as client:\n",
    "    model.predict(\n",
    "        client=client,\n",
    "        initial_store_name=\"github\",\n",
    "        sampler=None,\n",
    "        batch_size=1,\n",
    "    )\n"
   ]
  }
 ],
 "metadata": {
  "kernelspec": {
   "display_name": "Python 3",
   "language": "python",
   "name": "python3"
  },
  "language_info": {
   "codemirror_mode": {
    "name": "ipython",
    "version": 3
   },
   "file_extension": ".py",
   "mimetype": "text/x-python",
   "name": "python",
   "nbconvert_exporter": "python",
   "pygments_lexer": "ipython3",
   "version": "3.10.6"
  },
  "orig_nbformat": 4,
  "vscode": {
   "interpreter": {
    "hash": "31f2aee4e71d21fbe5cf8b01ff0e069b9275f58929596ceb00d14d90e3e16cd6"
   }
  }
 },
 "nbformat": 4,
 "nbformat_minor": 2
}
