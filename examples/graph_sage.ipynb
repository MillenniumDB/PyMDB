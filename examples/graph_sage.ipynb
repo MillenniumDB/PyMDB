{
 "cells": [
  {
   "attachments": {},
   "cell_type": "markdown",
   "metadata": {},
   "source": [
    "# GraphSAGE"
   ]
  },
  {
   "cell_type": "code",
   "execution_count": 1,
   "metadata": {},
   "outputs": [],
   "source": [
    "import sys\n",
    "\n",
    "# Necessary to import from sibling directory\n",
    "sys.path.append(\"..\")\n",
    "\n",
    "from pymdb import (\n",
    "    MDBClient,\n",
    "    TrainBatchLoader,\n",
    "    EvalBatchLoader,\n",
    "    FeatureStoreManager,\n",
    "    Sampler,\n",
    ")\n",
    "\n",
    "import torch\n",
    "import torch.nn.functional as F\n",
    "from torch_geometric.nn import SAGEConv\n",
    "from typing import List\n"
   ]
  },
  {
   "attachments": {},
   "cell_type": "markdown",
   "metadata": {},
   "source": [
    "## Model"
   ]
  },
  {
   "cell_type": "code",
   "execution_count": 2,
   "metadata": {},
   "outputs": [],
   "source": [
    "class GraphSAGE(torch.nn.Module):\n",
    "    def __init__(self, dim_in: int, dim_h: int, dim_out: int, num_layers: int):\n",
    "        if num_layers < 2:\n",
    "            raise ValueError(\"Number of layers must be greater than 1\")\n",
    "\n",
    "        super().__init__()\n",
    "\n",
    "        self.dim_in = dim_in\n",
    "        self.dim_h = dim_h\n",
    "        self.dim_out = dim_out\n",
    "        self.num_layers = num_layers\n",
    "\n",
    "        self.convs = torch.nn.ModuleList()\n",
    "        self.convs.append(SAGEConv(dim_in, dim_h))\n",
    "        for _ in range(num_layers - 2):\n",
    "            self.convs.append(SAGEConv(dim_h, dim_h))\n",
    "        self.convs.append(SAGEConv(dim_h, dim_out))\n",
    "\n",
    "    def reset_parameters(self):\n",
    "        for conv in self.convs:\n",
    "            conv.reset_parameters()\n",
    "\n",
    "    def forward(\n",
    "        self,\n",
    "        node_features: torch.Tensor,  # [num_nodes, feature_size]\n",
    "        edge_index: torch.Tensor,  # [2, feature_size]\n",
    "    ):\n",
    "        h = node_features\n",
    "        for layer in self.convs[:-1]:\n",
    "            h = layer(h, edge_index)\n",
    "            h = F.relu(h)\n",
    "            h = F.dropout(h, p=0.5, training=self.training)\n",
    "        h = self.convs[-1](h, edge_index)\n",
    "        return h, F.log_softmax(h, dim=1)  # (embedding, prediction)\n",
    "\n",
    "    def fit(\n",
    "        self,\n",
    "        epochs: int,\n",
    "        train_batch_loader: \"TrainBatchLoader\",\n",
    "    ):\n",
    "        self.train()\n",
    "        criterion = torch.nn.CrossEntropyLoss()\n",
    "        optimizer = torch.optim.Adam(self.parameters(), lr=0.01, weight_decay=5e-4)\n",
    "        accuracy = lambda y_pred, y: ((y_pred == y).sum() / len(y)).item()\n",
    "        for epoch in range(epochs + 1):\n",
    "            # Train on batches\n",
    "            for batch in train_batch_loader:\n",
    "                optimizer.zero_grad()\n",
    "                out = self(batch.node_features, batch.edge_index)[1][:batch.num_seeds]\n",
    "                loss = criterion(out, batch.node_labels[:batch.num_seeds])\n",
    "                acc = accuracy(out.argmax(dim=1), batch.node_labels[:batch.num_seeds])\n",
    "                loss.backward()\n",
    "                optimizer.step()\n",
    "            # Print metrics every 50 epochs\n",
    "            if epoch % 50 == 0:\n",
    "                print(\n",
    "                    f\"Epoch: {epoch:>3} | Train loss: {loss:.3f} | Train acc: {acc*100:>6.2f}%\"\n",
    "                )\n",
    "\n",
    "    def compute_embeddings(\n",
    "        self,\n",
    "        client: \"MDBClient\",\n",
    "        initial_feature_store_name: str,\n",
    "        batch_size: int,\n",
    "        num_neighbors: List[int],\n",
    "    ):\n",
    "        self.eval()\n",
    "        ebl_args = {\n",
    "            \"client\": client,\n",
    "            \"batch_size\": batch_size,\n",
    "            \"num_neighbors\": num_neighbors,\n",
    "        }\n",
    "\n",
    "        fsm = FeatureStoreManager(client)\n",
    "\n",
    "        store_names = fsm.list()\n",
    "        if \"temp1\" in store_names:\n",
    "            fsm.remove(\"temp1\")\n",
    "        if \"temp2\" in store_names:\n",
    "            fsm.remove(\"temp2\")\n",
    "        if \"final\" in store_names:\n",
    "            fsm.remove(\"final\")\n",
    "\n",
    "        fsm.create(name=\"temp1\", feature_size=self.dim_h)\n",
    "        fsm.create(name=\"temp2\", feature_size=self.dim_h)\n",
    "        fsm.create(name=\"final\", feature_size=self.dim_out)\n",
    "\n",
    "        prev_store = fsm.open(\"temp1\")\n",
    "        curr_store = fsm.open(\"temp2\")\n",
    "        final_store = fsm.open(\"final\")\n",
    "\n",
    "        print(f\"Evaluating layer 1/{self.num_layers}\")\n",
    "        for batch in EvalBatchLoader(\n",
    "            **ebl_args, feature_store_name=initial_feature_store_name\n",
    "        ):\n",
    "            h = self.convs[0](batch.node_features, batch.edge_index)[:batch.num_seeds]\n",
    "            h = F.relu(h)\n",
    "            h = F.dropout(h, p=0.5, training=self.training)\n",
    "            prev_store[batch.node_ids[:batch.num_seeds]] = h\n",
    "        # Flush the store to disk\n",
    "        prev_store.close()\n",
    "        prev_store = fsm.open(prev_store.name)\n",
    "\n",
    "        # From now the variable prev_store is used for READ ONLY, while curr_store is\n",
    "        # used for WRITE ONLY\n",
    "        for idx, layer in enumerate(self.convs[1:-1]):\n",
    "            print(f\"Evaluating layer {idx + 2}/{self.num_layers}\")\n",
    "            for batch in EvalBatchLoader(**ebl_args, feature_store_name=prev_store.name):\n",
    "                h = layer(batch.node_features, batch.edge_index)[:batch.num_seeds]\n",
    "                h = F.relu(h)\n",
    "                h = F.dropout(h, p=0.5, training=self.training)\n",
    "                curr_store[batch.node_ids[:batch.num_seeds]] = h\n",
    "            # Flush the store to disk\n",
    "            curr_store.close()\n",
    "            curr_store = fsm.open(curr_store.name)\n",
    "            # Swap store references\n",
    "            prev_store, curr_store = curr_store, prev_store\n",
    "\n",
    "        print(f\"Evaluating layer {self.num_layers}/{self.num_layers}\")\n",
    "        for batch in EvalBatchLoader(**ebl_args, feature_store_name=prev_store.name):\n",
    "            h = self.convs[-1](batch.node_features, batch.edge_index)[:batch.num_seeds]\n",
    "            final_store[batch.node_ids[:batch.num_seeds]] = h\n",
    "\n",
    "        print(\n",
    "            f\"Done. Final embeddings are stored in the FeatureStore {final_store.name}\"\n",
    "        )\n",
    "\n",
    "        prev_store.close()\n",
    "        curr_store.close()\n",
    "        final_store.close()\n",
    "\n",
    "        # Remove temporary stores\n",
    "        fsm.remove(\"temp1\")\n",
    "        fsm.remove(\"temp2\")\n"
   ]
  },
  {
   "attachments": {},
   "cell_type": "markdown",
   "metadata": {},
   "source": [
    "## Train"
   ]
  },
  {
   "cell_type": "code",
   "execution_count": 3,
   "metadata": {},
   "outputs": [
    {
     "name": "stdout",
     "output_type": "stream",
     "text": [
      "Epoch:   0 | Train loss: 1.387 | Train acc:  62.50%\n",
      "Epoch:  50 | Train loss: 0.465 | Train acc:  92.19%\n",
      "Epoch: 100 | Train loss: 0.062 | Train acc:  96.88%\n",
      "Epoch: 150 | Train loss: 0.105 | Train acc:  96.88%\n",
      "Epoch: 200 | Train loss: 0.071 | Train acc:  98.44%\n",
      "Epoch: 250 | Train loss: 0.074 | Train acc:  98.44%\n",
      "Epoch: 300 | Train loss: 0.422 | Train acc:  90.62%\n"
     ]
    }
   ],
   "source": [
    "with MDBClient() as client:\n",
    "    sampler = Sampler(client=client)\n",
    "    seeds_ids = sampler.get_seed_ids(num_seeds=256)\n",
    "    tbl = TrainBatchLoader(\n",
    "        client=client,\n",
    "        feature_store_name=\"github\",\n",
    "        batch_size=64,\n",
    "        num_neighbors=[1],\n",
    "        seed_ids=seeds_ids,\n",
    "    )\n",
    "\n",
    "    model = GraphSAGE(dim_in=128, dim_h=64, dim_out=16, num_layers=5)\n",
    "    model.fit(epochs=300, train_batch_loader=tbl)\n"
   ]
  },
  {
   "attachments": {},
   "cell_type": "markdown",
   "metadata": {},
   "source": [
    "## Compute embeddings"
   ]
  },
  {
   "cell_type": "code",
   "execution_count": 4,
   "metadata": {},
   "outputs": [
    {
     "name": "stdout",
     "output_type": "stream",
     "text": [
      "Evaluating layer 1/5\n",
      "Evaluating layer 2/5\n",
      "Evaluating layer 3/5\n",
      "Evaluating layer 4/5\n",
      "Evaluating layer 5/5\n",
      "Done. Final embeddings are stored in the FeatureStore final\n"
     ]
    }
   ],
   "source": [
    "with MDBClient() as client:\n",
    "    initial_feature_store_name = \"github\"\n",
    "    batch_size = 5000\n",
    "    num_neighbors = [5, 5]\n",
    "\n",
    "    model.compute_embeddings(\n",
    "        client=client,\n",
    "        initial_feature_store_name=initial_feature_store_name,\n",
    "        batch_size=batch_size,\n",
    "        num_neighbors=num_neighbors,\n",
    "    )\n"
   ]
  }
 ],
 "metadata": {
  "kernelspec": {
   "display_name": "Python 3",
   "language": "python",
   "name": "python3"
  },
  "language_info": {
   "codemirror_mode": {
    "name": "ipython",
    "version": 3
   },
   "file_extension": ".py",
   "mimetype": "text/x-python",
   "name": "python",
   "nbconvert_exporter": "python",
   "pygments_lexer": "ipython3",
   "version": "3.10.6"
  },
  "orig_nbformat": 4,
  "vscode": {
   "interpreter": {
    "hash": "31f2aee4e71d21fbe5cf8b01ff0e069b9275f58929596ceb00d14d90e3e16cd6"
   }
  }
 },
 "nbformat": 4,
 "nbformat_minor": 2
}
