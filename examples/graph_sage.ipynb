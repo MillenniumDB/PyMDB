{
 "cells": [
  {
   "attachments": {},
   "cell_type": "markdown",
   "metadata": {},
   "source": [
    "# GraphSAGE"
   ]
  },
  {
   "cell_type": "code",
   "execution_count": 1,
   "metadata": {},
   "outputs": [],
   "source": [
    "# Necessary to import from sibling directory\n",
    "import sys\n",
    "sys.path.append(\"..\")"
   ]
  },
  {
   "attachments": {},
   "cell_type": "markdown",
   "metadata": {},
   "source": [
    "## Model"
   ]
  },
  {
   "cell_type": "code",
   "execution_count": 2,
   "metadata": {},
   "outputs": [
    {
     "name": "stderr",
     "output_type": "stream",
     "text": [
      "/home/zeus/.local/lib/python3.10/site-packages/tqdm/auto.py:22: TqdmWarning: IProgress not found. Please update jupyter and ipywidgets. See https://ipywidgets.readthedocs.io/en/stable/user_install.html\n",
      "  from .autonotebook import tqdm as notebook_tqdm\n"
     ]
    }
   ],
   "source": [
    "import torch\n",
    "import torch.nn.functional as F\n",
    "from torch_geometric.nn import SAGEConv\n",
    "\n",
    "\n",
    "class GraphSAGE(torch.nn.Module):\n",
    "    def __init__(self, dim_in: int, dim_h: int, dim_out: int):\n",
    "        super().__init__()\n",
    "        self.sage1 = SAGEConv(dim_in, dim_h)\n",
    "        self.sage2 = SAGEConv(dim_h, dim_out)\n",
    "\n",
    "    def forward(\n",
    "        self,\n",
    "        x: torch.Tensor,  # [num_nodes, feature_size]\n",
    "        edge_index: torch.Tensor,  # [2, feature_size]\n",
    "    ):\n",
    "        h = self.sage1(x, edge_index)\n",
    "        h = torch.relu(h)\n",
    "        h = F.dropout(h, p=0.5, training=self.training)\n",
    "        h = self.sage2(h, edge_index)\n",
    "        # Return (embedding, class_prediction)\n",
    "        return h, F.log_softmax(h, dim=1)\n",
    "\n",
    "    def fit(self, epochs, batch_loader):\n",
    "        self.train()\n",
    "        criterion = torch.nn.CrossEntropyLoss()\n",
    "        optimizer = torch.optim.Adam(self.parameters(), lr=0.01, weight_decay=5e-4)\n",
    "        accuracy = lambda y_pred, y: ((y_pred == y).sum() / len(y)).item()\n",
    "        for epoch in range(epochs + 1):\n",
    "            # Train on batches\n",
    "            for batch in batch_loader:\n",
    "                print(batch)\n",
    "                optimizer.zero_grad()\n",
    "                _, out = self(batch.node_features, batch.edge_index)\n",
    "\n",
    "                loss = criterion(out, batch.node_labels)\n",
    "                acc = accuracy(out.argmax(dim=1), batch.node_labels)\n",
    "\n",
    "                loss.backward()\n",
    "                optimizer.step()\n",
    "\n",
    "            # Print metrics every 50 epochs\n",
    "            if epoch % 50 == 0:\n",
    "                print(\n",
    "                    f\"Epoch: {epoch:>3} | Train loss: {loss:.3f} | Train acc: {acc*100:>6.2f}%\"\n",
    "                )\n",
    "\n",
    "    def predict(self, X, edge_index):\n",
    "        self.eval()\n",
    "        return self(X, edge_index)\n"
   ]
  },
  {
   "cell_type": "code",
   "execution_count": 3,
   "metadata": {},
   "outputs": [
    {
     "name": "stdout",
     "output_type": "stream",
     "text": [
      "Graph(node_features=torch.Size([296, 128]) node_labels=torch.Size([296]) edge_index=torch.Size([2, 308]))\n"
     ]
    },
    {
     "ename": "AttributeError",
     "evalue": "'Graph' object has no attribute 'y'",
     "output_type": "error",
     "traceback": [
      "\u001b[0;31m---------------------------------------------------------------------------\u001b[0m",
      "\u001b[0;31mAttributeError\u001b[0m                            Traceback (most recent call last)",
      "Cell \u001b[0;32mIn[3], line 14\u001b[0m\n\u001b[1;32m      4\u001b[0m batch_loader \u001b[39m=\u001b[39m BatchLoader(\n\u001b[1;32m      5\u001b[0m     client\u001b[39m=\u001b[39mclient,\n\u001b[1;32m      6\u001b[0m     feature_store_name\u001b[39m=\u001b[39m\u001b[39m\"\u001b[39m\u001b[39mgithub\u001b[39m\u001b[39m\"\u001b[39m,\n\u001b[0;32m   (...)\u001b[0m\n\u001b[1;32m     10\u001b[0m     seed\u001b[39m=\u001b[39m\u001b[39m2023\u001b[39m,\n\u001b[1;32m     11\u001b[0m )\n\u001b[1;32m     13\u001b[0m model \u001b[39m=\u001b[39m GraphSAGE(dim_in\u001b[39m=\u001b[39m\u001b[39m128\u001b[39m, dim_h\u001b[39m=\u001b[39m\u001b[39m64\u001b[39m, dim_out\u001b[39m=\u001b[39m\u001b[39m2\u001b[39m)\n\u001b[0;32m---> 14\u001b[0m model\u001b[39m.\u001b[39;49mfit(epochs\u001b[39m=\u001b[39;49m\u001b[39m100\u001b[39;49m, batch_loader\u001b[39m=\u001b[39;49mbatch_loader)\n",
      "Cell \u001b[0;32mIn[2], line 36\u001b[0m, in \u001b[0;36mGraphSAGE.fit\u001b[0;34m(self, epochs, batch_loader)\u001b[0m\n\u001b[1;32m     33\u001b[0m optimizer\u001b[39m.\u001b[39mzero_grad()\n\u001b[1;32m     34\u001b[0m _, out \u001b[39m=\u001b[39m \u001b[39mself\u001b[39m(batch\u001b[39m.\u001b[39mnode_features, batch\u001b[39m.\u001b[39medge_index)\n\u001b[0;32m---> 36\u001b[0m loss \u001b[39m=\u001b[39m criterion(out, batch\u001b[39m.\u001b[39;49my)\n\u001b[1;32m     37\u001b[0m acc \u001b[39m=\u001b[39m accuracy(out\u001b[39m.\u001b[39margmax(dim\u001b[39m=\u001b[39m\u001b[39m1\u001b[39m), batch\u001b[39m.\u001b[39mnode_labels)\n\u001b[1;32m     39\u001b[0m loss\u001b[39m.\u001b[39mbackward()\n",
      "\u001b[0;31mAttributeError\u001b[0m: 'Graph' object has no attribute 'y'"
     ]
    }
   ],
   "source": [
    "from pymdb import MDBClient, BatchLoader\n",
    "\n",
    "with MDBClient(host=\"127.0.0.1\", port=8080) as client:\n",
    "    batch_loader = BatchLoader(\n",
    "        client=client,\n",
    "        feature_store_name=\"github\",\n",
    "        num_seeds=64,\n",
    "        batch_size=16,\n",
    "        neighbor_sizes=[5, 5],\n",
    "        seed=2023,\n",
    "    )\n",
    "\n",
    "    model = GraphSAGE(dim_in=128, dim_h=64, dim_out=2)\n",
    "    model.fit(epochs=100, batch_loader=batch_loader)\n"
   ]
  }
 ],
 "metadata": {
  "kernelspec": {
   "display_name": "Python 3",
   "language": "python",
   "name": "python3"
  },
  "language_info": {
   "codemirror_mode": {
    "name": "ipython",
    "version": 3
   },
   "file_extension": ".py",
   "mimetype": "text/x-python",
   "name": "python",
   "nbconvert_exporter": "python",
   "pygments_lexer": "ipython3",
   "version": "3.10.6"
  },
  "orig_nbformat": 4,
  "vscode": {
   "interpreter": {
    "hash": "31f2aee4e71d21fbe5cf8b01ff0e069b9275f58929596ceb00d14d90e3e16cd6"
   }
  }
 },
 "nbformat": 4,
 "nbformat_minor": 2
}
