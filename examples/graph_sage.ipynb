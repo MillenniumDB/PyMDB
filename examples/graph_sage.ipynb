{
 "cells": [
  {
   "attachments": {},
   "cell_type": "markdown",
   "metadata": {},
   "source": [
    "# GraphSAGE"
   ]
  },
  {
   "cell_type": "code",
   "execution_count": 25,
   "metadata": {},
   "outputs": [],
   "source": [
    "import sys\n",
    "\n",
    "# Necessary to import from sibling directory\n",
    "sys.path.append(\"..\")\n",
    "\n",
    "from pymdb import (\n",
    "    MDBClient,\n",
    "    TrainBatchLoader,\n",
    "    EvalBatchLoader,\n",
    "    FeatureStoreManager,\n",
    "    Sampler,\n",
    ")\n",
    "\n",
    "import torch\n",
    "import torch.nn.functional as F\n",
    "from torch_geometric.nn import SAGEConv\n"
   ]
  },
  {
   "attachments": {},
   "cell_type": "markdown",
   "metadata": {},
   "source": [
    "## Model"
   ]
  },
  {
   "cell_type": "code",
   "execution_count": 71,
   "metadata": {},
   "outputs": [],
   "source": [
    "class GraphSAGE(torch.nn.Module):\n",
    "    def __init__(\n",
    "        self,\n",
    "        dim_in: int,\n",
    "        dim_h: int,\n",
    "        dim_out: int,\n",
    "        num_layers: int,\n",
    "    ):\n",
    "        if num_layers < 2:\n",
    "            raise ValueError(\"Number of layers must be greater than 1\")\n",
    "        super().__init__()\n",
    "        self.convs = torch.nn.ModuleList()\n",
    "        self.convs.append(SAGEConv(dim_in, dim_h))\n",
    "        for _ in range(num_layers - 2):\n",
    "            self.convs.append(SAGEConv(dim_h, dim_h))\n",
    "        self.convs.append(SAGEConv(dim_h, dim_out))\n",
    "\n",
    "        self.dim_in = dim_in\n",
    "        self.dim_h = dim_h\n",
    "        self.dim_out = dim_out\n",
    "        self.num_layers = num_layers\n",
    "\n",
    "    def reset_parameters(self):\n",
    "        for conv in self.convs:\n",
    "            conv.reset_parameters()\n",
    "\n",
    "    def forward(\n",
    "        self,\n",
    "        node_features: torch.Tensor,  # [num_nodes, feature_size]\n",
    "        edge_index: torch.Tensor,  # [2, feature_size]\n",
    "    ) -> torch.Tensor:\n",
    "        h = node_features\n",
    "        for layer in self.convs[:-1]:\n",
    "            h = layer(h, edge_index)\n",
    "            h = F.relu(h)\n",
    "            h = F.dropout(h, p=0.5, training=self.training)\n",
    "        return self.convs[-1](h, edge_index)  # Embedding\n"
   ]
  },
  {
   "attachments": {},
   "cell_type": "markdown",
   "metadata": {},
   "source": [
    "## Trainers"
   ]
  },
  {
   "attachments": {},
   "cell_type": "markdown",
   "metadata": {},
   "source": [
    "### fit_unsup\n",
    "\n",
    "Regular training."
   ]
  },
  {
   "cell_type": "code",
   "execution_count": 73,
   "metadata": {},
   "outputs": [],
   "source": [
    "def fit_unsup(\n",
    "    model: \"GraphSAGE\",\n",
    "    epochs: int,\n",
    "    train_batch_loader: \"TrainBatchLoader\",\n",
    "):\n",
    "    model.train()\n",
    "    criterion = torch.nn.CrossEntropyLoss()\n",
    "    optimizer = torch.optim.Adam(model.parameters(), lr=0.01)\n",
    "\n",
    "    for epoch in range(epochs + 1):\n",
    "        total_loss = total_correct = 0\n",
    "        for batch in train_batch_loader:\n",
    "            optimizer.zero_grad()\n",
    "\n",
    "            out = model(batch.node_features, batch.edge_index)[: batch.num_seeds]\n",
    "            y_pred = F.log_softmax(out, dim=-1)\n",
    "            y_true = batch.node_labels[: batch.num_seeds]\n",
    "\n",
    "            loss = criterion(y_pred, y_true)\n",
    "            loss.backward()\n",
    "            optimizer.step()\n",
    "\n",
    "            total_loss += loss\n",
    "            total_correct += y_pred.argmax(dim=-1).eq(y_true).sum().item()\n",
    "\n",
    "        if epoch % 50 == 0 or epoch == epochs:\n",
    "            epoch_loss = total_loss / len(train_batch_loader)\n",
    "            epoch_acc = 100 * total_correct / len(train_batch_loader.seed_ids)\n",
    "            print(f\"Epoch {epoch: 4d} | Loss: {epoch_loss:.4f} | Acc: {epoch_acc:.2f}%\")\n"
   ]
  },
  {
   "cell_type": "code",
   "execution_count": null,
   "metadata": {},
   "outputs": [],
   "source": [
    "with MDBClient() as client:\n",
    "    dim_in = 128\n",
    "    dim_h = 64\n",
    "    dim_out = 16\n",
    "    num_layers = 5\n",
    "    model = GraphSAGE(\n",
    "        dim_in=dim_in,\n",
    "        dim_h=dim_h,\n",
    "        dim_out=dim_out,\n",
    "        num_layers=num_layers,\n",
    "    )\n",
    "\n",
    "    sampler = Sampler(client=client)\n",
    "    seeds_ids = sampler.get_seed_ids(num_seeds=256)\n",
    "    tbl = TrainBatchLoader(\n",
    "        client=client,\n",
    "        feature_store_name=\"github\",\n",
    "        batch_size=64,\n",
    "        num_neighbors=[5, 5],\n",
    "        seed_ids=seeds_ids,\n",
    "    )\n",
    "    fsm = FeatureStoreManager(client=client)\n",
    "\n",
    "    fit_unsup_with_embeddings(\n",
    "        model=model,\n",
    "        epochs=300,\n",
    "        train_batch_loader=tbl,\n",
    "        feature_store_manager=fsm,\n",
    "    )\n"
   ]
  },
  {
   "attachments": {},
   "cell_type": "markdown",
   "metadata": {},
   "source": [
    "### fit_unsup_with_embeddings\n",
    "\n",
    "This trainer will use the original node features concatenated with the latest version of the computed embeddings. If no embeding is found, a tensor of zeroes is used. The model must have `dim_features + dim_embedding` dimensions on each layer until the final layer of `dim_embedding`."
   ]
  },
  {
   "cell_type": "code",
   "execution_count": 105,
   "metadata": {},
   "outputs": [],
   "source": [
    "def fit_unsup_with_embeddings(\n",
    "    model: \"GraphSAGE\",\n",
    "    epochs: int,\n",
    "    train_batch_loader: \"TrainBatchLoader\",\n",
    "    feature_store_manager: \"FeatureStoreManager\",\n",
    "):\n",
    "    if model.dim_in < model.dim_out:\n",
    "        raise ValueError(\"Model must have dim_in >= dim_out\")\n",
    "    if model.dim_in != model.dim_h:\n",
    "        raise ValueError(\"Model must have dim_in == dim_h\")\n",
    "\n",
    "    dim_features = model.dim_in - model.dim_out\n",
    "    dim_embeddings = model.dim_out\n",
    "\n",
    "    model.train()\n",
    "    criterion = torch.nn.CrossEntropyLoss()\n",
    "    optimizer = torch.optim.Adam(model.parameters(), lr=0.01)\n",
    "\n",
    "    # Create a temporary feature store to store the latest embeddings\n",
    "    feature_store_names = feature_store_manager.list()\n",
    "    if \"temp\" in feature_store_names:\n",
    "        feature_store_manager.remove(\"temp\")\n",
    "    feature_store_manager.create(\"temp\", dim_embeddings)\n",
    "\n",
    "    temp_store = feature_store_manager.open(\"temp\")\n",
    "\n",
    "    for epoch in range(epochs + 1):\n",
    "        total_loss = total_correct = 0\n",
    "        for batch in train_batch_loader:\n",
    "            optimizer.zero_grad()\n",
    "\n",
    "            # Allocate space for concatenation\n",
    "            concat_features = torch.zeros(\n",
    "                len(batch.node_ids), dim_features + dim_embeddings\n",
    "            )\n",
    "            # Insert original node features\n",
    "            concat_features[:, :dim_features] = batch.node_features\n",
    "            # Insert latest available embeddings from temporary store\n",
    "            for idx, node_id in enumerate(batch.node_ids):\n",
    "                if node_id in temp_store:\n",
    "                    concat_features[idx, dim_features:] = temp_store[node_id]\n",
    "\n",
    "            out = model(concat_features, batch.edge_index)[: batch.num_seeds]\n",
    "\n",
    "            # Update seed node embeddings in temporary store\n",
    "            temp_store[batch.node_ids[: batch.num_seeds]] = out\n",
    "\n",
    "            y_pred = F.log_softmax(out, dim=-1)\n",
    "            y_true = batch.node_labels[: batch.num_seeds]\n",
    "\n",
    "            loss = criterion(y_pred, y_true)\n",
    "            loss.backward()\n",
    "            optimizer.step()\n",
    "\n",
    "            total_loss += loss\n",
    "            total_correct += y_pred.argmax(dim=-1).eq(y_true).sum().item()\n",
    "\n",
    "        if epoch % 50 == 0 or epoch == epochs:\n",
    "            epoch_loss = total_loss / len(train_batch_loader)\n",
    "            epoch_acc = 100 * total_correct / len(train_batch_loader.seed_ids)\n",
    "            print(f\"Epoch {epoch: 4d} | Loss: {epoch_loss:.4f} | Acc: {epoch_acc:.2f}%\")\n",
    "\n",
    "    # Cleanup\n",
    "    temp_store.close()\n",
    "    feature_store_manager.remove(\"temp\")\n"
   ]
  },
  {
   "attachments": {},
   "cell_type": "markdown",
   "metadata": {},
   "source": [
    "The following cells are just for debugging"
   ]
  },
  {
   "cell_type": "code",
   "execution_count": 106,
   "metadata": {},
   "outputs": [
    {
     "name": "stdout",
     "output_type": "stream",
     "text": [
      "Epoch    0 | Loss: 1.4394 | Acc: 61.72%\n",
      "Epoch   50 | Loss: 0.3101 | Acc: 85.94%\n"
     ]
    },
    {
     "ename": "KeyboardInterrupt",
     "evalue": "",
     "output_type": "error",
     "traceback": [
      "\u001b[0;31m---------------------------------------------------------------------------\u001b[0m",
      "\u001b[0;31mKeyboardInterrupt\u001b[0m                         Traceback (most recent call last)",
      "Cell \u001b[0;32mIn[106], line 24\u001b[0m\n\u001b[1;32m     15\u001b[0m tbl \u001b[39m=\u001b[39m TrainBatchLoader(\n\u001b[1;32m     16\u001b[0m     client\u001b[39m=\u001b[39mclient,\n\u001b[1;32m     17\u001b[0m     feature_store_name\u001b[39m=\u001b[39m\u001b[39m\"\u001b[39m\u001b[39mgithub\u001b[39m\u001b[39m\"\u001b[39m,\n\u001b[0;32m   (...)\u001b[0m\n\u001b[1;32m     20\u001b[0m     seed_ids\u001b[39m=\u001b[39mseeds_ids,\n\u001b[1;32m     21\u001b[0m )\n\u001b[1;32m     22\u001b[0m fsm \u001b[39m=\u001b[39m FeatureStoreManager(client\u001b[39m=\u001b[39mclient)\n\u001b[0;32m---> 24\u001b[0m fit_unsup_with_embeddings(\n\u001b[1;32m     25\u001b[0m     model\u001b[39m=\u001b[39;49mmodel,\n\u001b[1;32m     26\u001b[0m     epochs\u001b[39m=\u001b[39;49m\u001b[39m300\u001b[39;49m,\n\u001b[1;32m     27\u001b[0m     train_batch_loader\u001b[39m=\u001b[39;49mtbl,\n\u001b[1;32m     28\u001b[0m     feature_store_manager\u001b[39m=\u001b[39;49mfsm,\n\u001b[1;32m     29\u001b[0m )\n",
      "Cell \u001b[0;32mIn[105], line 29\u001b[0m, in \u001b[0;36mfit_unsup_with_embeddings\u001b[0;34m(model, epochs, train_batch_loader, feature_store_manager)\u001b[0m\n\u001b[1;32m     27\u001b[0m \u001b[39mfor\u001b[39;00m epoch \u001b[39min\u001b[39;00m \u001b[39mrange\u001b[39m(epochs \u001b[39m+\u001b[39m \u001b[39m1\u001b[39m):\n\u001b[1;32m     28\u001b[0m     total_loss \u001b[39m=\u001b[39m total_correct \u001b[39m=\u001b[39m \u001b[39m0\u001b[39m\n\u001b[0;32m---> 29\u001b[0m     \u001b[39mfor\u001b[39;00m batch \u001b[39min\u001b[39;00m train_batch_loader:\n\u001b[1;32m     30\u001b[0m         optimizer\u001b[39m.\u001b[39mzero_grad()\n\u001b[1;32m     32\u001b[0m         \u001b[39m# Allocate space for concatenation\u001b[39;00m\n",
      "File \u001b[0;32m~/PyMDB/examples/../pymdb/utils/decorators.py:11\u001b[0m, in \u001b[0;36mcheck_closed.<locals>.wrapper\u001b[0;34m(self, *args, **kwargs)\u001b[0m\n\u001b[1;32m      9\u001b[0m \u001b[39mif\u001b[39;00m \u001b[39mself\u001b[39m\u001b[39m.\u001b[39m_closed:\n\u001b[1;32m     10\u001b[0m     \u001b[39mraise\u001b[39;00m \u001b[39mException\u001b[39;00m(\u001b[39mf\u001b[39m\u001b[39m\"\u001b[39m\u001b[39m{\u001b[39;00m\u001b[39mself\u001b[39m\u001b[39m.\u001b[39m\u001b[39m__class__\u001b[39m\u001b[39m.\u001b[39m\u001b[39m__name__\u001b[39m\u001b[39m}\u001b[39;00m\u001b[39m instance is closed\u001b[39m\u001b[39m\"\u001b[39m)\n\u001b[0;32m---> 11\u001b[0m \u001b[39mreturn\u001b[39;00m func(\u001b[39mself\u001b[39;49m, \u001b[39m*\u001b[39;49margs, \u001b[39m*\u001b[39;49m\u001b[39m*\u001b[39;49mkwargs)\n",
      "File \u001b[0;32m~/PyMDB/examples/../pymdb/batch_loader/batch_loader.py:47\u001b[0m, in \u001b[0;36mBatchLoader.__next__\u001b[0;34m(self)\u001b[0m\n\u001b[1;32m     45\u001b[0m \u001b[39m@decorators\u001b[39m\u001b[39m.\u001b[39mcheck_closed\n\u001b[1;32m     46\u001b[0m \u001b[39mdef\u001b[39;00m \u001b[39m__next__\u001b[39m(\u001b[39mself\u001b[39m) \u001b[39m-\u001b[39m\u001b[39m>\u001b[39m Graph:\n\u001b[0;32m---> 47\u001b[0m     \u001b[39mreturn\u001b[39;00m \u001b[39mself\u001b[39;49m\u001b[39m.\u001b[39;49m_next()\n",
      "File \u001b[0;32m~/PyMDB/examples/../pymdb/batch_loader/batch_loader.py:67\u001b[0m, in \u001b[0;36mBatchLoader._next\u001b[0;34m(self)\u001b[0m\n\u001b[1;32m     64\u001b[0m \u001b[39mself\u001b[39m\u001b[39m.\u001b[39mclient\u001b[39m.\u001b[39m_send(msg)\n\u001b[1;32m     66\u001b[0m \u001b[39m# Handle response\u001b[39;00m\n\u001b[0;32m---> 67\u001b[0m data, code \u001b[39m=\u001b[39m \u001b[39mself\u001b[39;49m\u001b[39m.\u001b[39;49mclient\u001b[39m.\u001b[39;49m_recv()\n\u001b[1;32m     69\u001b[0m \u001b[39mif\u001b[39;00m code \u001b[39m==\u001b[39m StatusCode\u001b[39m.\u001b[39mEND_OF_ITERATION:\n\u001b[1;32m     70\u001b[0m     \u001b[39mraise\u001b[39;00m \u001b[39mStopIteration\u001b[39;00m\n",
      "File \u001b[0;32m~/PyMDB/examples/../pymdb/utils/decorators.py:11\u001b[0m, in \u001b[0;36mcheck_closed.<locals>.wrapper\u001b[0;34m(self, *args, **kwargs)\u001b[0m\n\u001b[1;32m      9\u001b[0m \u001b[39mif\u001b[39;00m \u001b[39mself\u001b[39m\u001b[39m.\u001b[39m_closed:\n\u001b[1;32m     10\u001b[0m     \u001b[39mraise\u001b[39;00m \u001b[39mException\u001b[39;00m(\u001b[39mf\u001b[39m\u001b[39m\"\u001b[39m\u001b[39m{\u001b[39;00m\u001b[39mself\u001b[39m\u001b[39m.\u001b[39m\u001b[39m__class__\u001b[39m\u001b[39m.\u001b[39m\u001b[39m__name__\u001b[39m\u001b[39m}\u001b[39;00m\u001b[39m instance is closed\u001b[39m\u001b[39m\"\u001b[39m)\n\u001b[0;32m---> 11\u001b[0m \u001b[39mreturn\u001b[39;00m func(\u001b[39mself\u001b[39;49m, \u001b[39m*\u001b[39;49margs, \u001b[39m*\u001b[39;49m\u001b[39m*\u001b[39;49mkwargs)\n",
      "File \u001b[0;32m~/PyMDB/examples/../pymdb/mdb_client/mdb_client.py:63\u001b[0m, in \u001b[0;36mMDBClient._recv\u001b[0;34m(self)\u001b[0m\n\u001b[1;32m     61\u001b[0m data \u001b[39m=\u001b[39m \u001b[39mb\u001b[39m\u001b[39m\"\u001b[39m\u001b[39m\"\u001b[39m\n\u001b[1;32m     62\u001b[0m \u001b[39mwhile\u001b[39;00m \u001b[39mTrue\u001b[39;00m:\n\u001b[0;32m---> 63\u001b[0m     msg \u001b[39m=\u001b[39m recvall(protocol\u001b[39m.\u001b[39;49mBUFFER_SIZE)\n\u001b[1;32m     64\u001b[0m     msg_size \u001b[39m=\u001b[39m \u001b[39mint\u001b[39m\u001b[39m.\u001b[39mfrom_bytes(msg[\u001b[39m1\u001b[39m:\u001b[39m3\u001b[39m], \u001b[39m\"\u001b[39m\u001b[39mlittle\u001b[39m\u001b[39m\"\u001b[39m)\n\u001b[1;32m     65\u001b[0m     data \u001b[39m+\u001b[39m\u001b[39m=\u001b[39m msg[\u001b[39m3\u001b[39m:msg_size]\n",
      "File \u001b[0;32m~/PyMDB/examples/../pymdb/mdb_client/mdb_client.py:50\u001b[0m, in \u001b[0;36mMDBClient._recv.<locals>.recvall\u001b[0;34m(length)\u001b[0m\n\u001b[1;32m     48\u001b[0m data \u001b[39m=\u001b[39m \u001b[39mb\u001b[39m\u001b[39m\"\u001b[39m\u001b[39m\"\u001b[39m\n\u001b[1;32m     49\u001b[0m \u001b[39mwhile\u001b[39;00m \u001b[39mlen\u001b[39m(data) \u001b[39m<\u001b[39m length:\n\u001b[0;32m---> 50\u001b[0m     msg \u001b[39m=\u001b[39m \u001b[39mself\u001b[39;49m\u001b[39m.\u001b[39;49m_sock\u001b[39m.\u001b[39;49mrecv(length \u001b[39m-\u001b[39;49m \u001b[39mlen\u001b[39;49m(data))\n\u001b[1;32m     51\u001b[0m     \u001b[39mif\u001b[39;00m \u001b[39mlen\u001b[39m(msg) \u001b[39m==\u001b[39m \u001b[39m0\u001b[39m:\n\u001b[1;32m     52\u001b[0m         \u001b[39mraise\u001b[39;00m \u001b[39mConnectionError\u001b[39;00m(\u001b[39m\"\u001b[39m\u001b[39mServer closed the connection\u001b[39m\u001b[39m\"\u001b[39m)\n",
      "\u001b[0;31mKeyboardInterrupt\u001b[0m: "
     ]
    }
   ],
   "source": [
    "with MDBClient() as client:\n",
    "    dim_in = 128\n",
    "    dim_h = 64\n",
    "    dim_out = 16\n",
    "    num_layers = 3\n",
    "    model = GraphSAGE(\n",
    "        dim_in=dim_in + dim_out,\n",
    "        dim_h=dim_in + dim_out,\n",
    "        dim_out=dim_out,\n",
    "        num_layers=num_layers,\n",
    "    )\n",
    "\n",
    "    sampler = Sampler(client=client)\n",
    "    seeds_ids = sampler.get_seed_ids(num_seeds=256)\n",
    "    tbl = TrainBatchLoader(\n",
    "        client=client,\n",
    "        feature_store_name=\"github\",\n",
    "        batch_size=64,\n",
    "        num_neighbors=[5, 5],\n",
    "        seed_ids=seeds_ids,\n",
    "    )\n",
    "    fsm = FeatureStoreManager(client=client)\n",
    "\n",
    "    fit_unsup_with_embeddings(\n",
    "        model=model,\n",
    "        epochs=300,\n",
    "        train_batch_loader=tbl,\n",
    "        feature_store_manager=fsm,\n",
    "    )\n"
   ]
  }
 ],
 "metadata": {
  "kernelspec": {
   "display_name": "Python 3",
   "language": "python",
   "name": "python3"
  },
  "language_info": {
   "codemirror_mode": {
    "name": "ipython",
    "version": 3
   },
   "file_extension": ".py",
   "mimetype": "text/x-python",
   "name": "python",
   "nbconvert_exporter": "python",
   "pygments_lexer": "ipython3",
   "version": "3.10.6"
  },
  "orig_nbformat": 4,
  "vscode": {
   "interpreter": {
    "hash": "31f2aee4e71d21fbe5cf8b01ff0e069b9275f58929596ceb00d14d90e3e16cd6"
   }
  }
 },
 "nbformat": 4,
 "nbformat_minor": 2
}
