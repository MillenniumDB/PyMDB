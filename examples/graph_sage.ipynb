{
 "cells": [
  {
   "attachments": {},
   "cell_type": "markdown",
   "metadata": {},
   "source": [
    "# GraphSAGE"
   ]
  },
  {
   "cell_type": "code",
   "execution_count": 39,
   "metadata": {},
   "outputs": [],
   "source": [
    "# Necessary to import from sibling directory\n",
    "import sys\n",
    "\n",
    "sys.path.append(\"..\")\n",
    "\n",
    "from pymdb import (\n",
    "    MDBClient,\n",
    "    TrainBatchLoader,\n",
    "    EvalBatchLoader,\n",
    "    FeatureStoreManager,\n",
    "    Sampler,\n",
    ")\n",
    "\n",
    "import torch\n",
    "import torch.nn.functional as F\n",
    "from torch_geometric.nn import SAGEConv\n",
    "from typing import List\n"
   ]
  },
  {
   "attachments": {},
   "cell_type": "markdown",
   "metadata": {},
   "source": [
    "## Model"
   ]
  },
  {
   "cell_type": "code",
   "execution_count": 40,
   "metadata": {},
   "outputs": [],
   "source": [
    "class GraphSAGE(torch.nn.Module):\n",
    "    def __init__(self, dim_in: int, dim_h: int, dim_out: int, num_layers: int):\n",
    "        if num_layers < 2:\n",
    "            raise ValueError(\"Number of layers must be greater than 1\")\n",
    "\n",
    "        super().__init__()\n",
    "\n",
    "        self.dim_in = dim_in\n",
    "        self.dim_h = dim_h\n",
    "        self.dim_out = dim_out\n",
    "        self.num_layers = num_layers\n",
    "\n",
    "        self.convs = torch.nn.ModuleList()\n",
    "        self.convs.append(SAGEConv(dim_in, dim_h))\n",
    "        for _ in range(num_layers - 2):\n",
    "            self.convs.append(SAGEConv(dim_h, dim_h))\n",
    "        self.convs.append(SAGEConv(dim_h, dim_out))\n",
    "\n",
    "    def reset_parameters(self):\n",
    "        for conv in self.convs:\n",
    "            conv.reset_parameters()\n",
    "\n",
    "    def forward(\n",
    "        self,\n",
    "        node_features: torch.Tensor,  # [num_nodes, feature_size]\n",
    "        edge_index: torch.Tensor,  # [2, feature_size]\n",
    "    ):\n",
    "        h = node_features\n",
    "        for layer in self.convs[:-1]:\n",
    "            h = layer(h, edge_index)\n",
    "            h = F.relu(h)\n",
    "            h = F.dropout(h, p=0.5, training=self.training)\n",
    "        h = self.convs[-1](h, edge_index)\n",
    "        return h, F.log_softmax(h, dim=1)  # (embedding, prediction)\n",
    "\n",
    "    def fit(\n",
    "        self,\n",
    "        epochs: int,\n",
    "        train_batch_loader: \"TrainBatchLoader\",\n",
    "    ):\n",
    "        self.train()\n",
    "        criterion = torch.nn.CrossEntropyLoss()\n",
    "        optimizer = torch.optim.Adam(self.parameters(), lr=0.01, weight_decay=5e-4)\n",
    "        accuracy = lambda y_pred, y: ((y_pred == y).sum() / len(y)).item()\n",
    "        for epoch in range(epochs + 1):\n",
    "            # Train on batches\n",
    "            for batch in train_batch_loader:\n",
    "                num_seeds = len(batch.seed_ids)\n",
    "                optimizer.zero_grad()\n",
    "                out = self(batch.node_features, batch.edge_index)[1][:num_seeds]\n",
    "                loss = criterion(out, batch.node_labels[:num_seeds])\n",
    "                acc = accuracy(out.argmax(dim=1), batch.node_labels[:num_seeds])\n",
    "                loss.backward()\n",
    "                optimizer.step()\n",
    "            # Print metrics every 50 epochs\n",
    "            if epoch % 50 == 0:\n",
    "                print(\n",
    "                    f\"Epoch: {epoch:>3} | Train loss: {loss:.3f} | Train acc: {acc*100:>6.2f}%\"\n",
    "                )\n",
    "\n",
    "    def compute_embeddings(\n",
    "        self,\n",
    "        client: \"MDBClient\",\n",
    "        initial_feature_store_name: str,\n",
    "        batch_size: int,\n",
    "        num_neighbors: List[int],\n",
    "    ):\n",
    "        self.eval()\n",
    "        ebl_args = {\n",
    "            \"client\": client,\n",
    "            \"batch_size\": batch_size,\n",
    "            \"num_neighbors\": num_neighbors,\n",
    "        }\n",
    "\n",
    "        fsm = FeatureStoreManager(client)\n",
    "\n",
    "        store_names = fsm.list()\n",
    "        if \"temp1\" in store_names:\n",
    "            fsm.remove(\"temp1\")\n",
    "        if \"temp2\" in store_names:\n",
    "            fsm.remove(\"temp2\")\n",
    "        if \"final\" in store_names:\n",
    "            fsm.remove(\"final\")\n",
    "\n",
    "        fsm.create(name=\"temp1\", feature_size=self.dim_h)\n",
    "        fsm.create(name=\"temp2\", feature_size=self.dim_h)\n",
    "        fsm.create(name=\"final\", feature_size=self.dim_out)\n",
    "\n",
    "        prev_store = fsm.open(\"temp1\")\n",
    "        curr_store = fsm.open(\"temp2\")\n",
    "        final_store = fsm.open(\"final\")\n",
    "\n",
    "        print(f\"Evaluating layer 1/{self.num_layers}\")\n",
    "        for batch in EvalBatchLoader(\n",
    "            **ebl_args, feature_store_name=initial_feature_store_name\n",
    "        ):\n",
    "            num_seeds = len(batch.seed_ids)\n",
    "            h = self.convs[0](batch.node_features, batch.edge_index)[:num_seeds]\n",
    "            h = F.relu(h)\n",
    "            h = F.dropout(h, p=0.5, training=self.training)\n",
    "            prev_store[batch.seed_ids] = h\n",
    "        # Flush the store to disk\n",
    "        prev_store.close()\n",
    "        prev_store = fsm.open(prev_store.name)\n",
    "\n",
    "        # From now the variable prev_store is used for READ ONLY, while curr_store is\n",
    "        # used for WRITE ONLY\n",
    "        for idx, layer in enumerate(self.convs[1:-1]):\n",
    "            print(f\"Evaluating layer {idx + 2}/{self.num_layers}\")\n",
    "            for batch in EvalBatchLoader(**ebl_args, feature_store_name=prev_store.name):\n",
    "                num_seeds = len(batch.seed_ids)\n",
    "                h = layer(batch.node_features, batch.edge_index)[:num_seeds]\n",
    "                h = F.relu(h)\n",
    "                h = F.dropout(h, p=0.5, training=self.training)\n",
    "                curr_store[batch.seed_ids] = h\n",
    "            # Flush the store to disk\n",
    "            curr_store.close()\n",
    "            curr_store = fsm.open(curr_store.name)\n",
    "            # Swap store references\n",
    "            prev_store, curr_store = curr_store, prev_store\n",
    "\n",
    "        print(f\"Evaluating layer {self.num_layers}/{self.num_layers}\")\n",
    "        for batch in EvalBatchLoader(**ebl_args, feature_store_name=prev_store.name):\n",
    "            num_seeds = len(batch.seed_ids)\n",
    "            h = self.convs[-1](batch.node_features, batch.edge_index)[:num_seeds]\n",
    "            final_store[batch.seed_ids] = h\n",
    "\n",
    "        print(\n",
    "            f\"Done. Final embeddings are stored in the FeatureStore {final_store.name}\"\n",
    "        )\n",
    "\n",
    "        prev_store.close()\n",
    "        curr_store.close()\n",
    "        final_store.close()\n",
    "\n",
    "        # Remove temporary stores\n",
    "        fsm.remove(\"temp1\")\n",
    "        fsm.remove(\"temp2\")\n"
   ]
  },
  {
   "attachments": {},
   "cell_type": "markdown",
   "metadata": {},
   "source": [
    "## Train"
   ]
  },
  {
   "cell_type": "code",
   "execution_count": 41,
   "metadata": {},
   "outputs": [
    {
     "name": "stdout",
     "output_type": "stream",
     "text": [
      "Epoch:   0 | Train loss: 1.001 | Train acc:  71.88%\n"
     ]
    }
   ],
   "source": [
    "with MDBClient() as client:\n",
    "    sampler = Sampler(client=client)\n",
    "    seeds_ids = sampler.get_seed_ids(num_seeds=256)\n",
    "    tbl = TrainBatchLoader(\n",
    "        client=client,\n",
    "        feature_store_name=\"github\",\n",
    "        batch_size=64,\n",
    "        num_neighbors=[5, 5],\n",
    "        seed_ids=seeds_ids,\n",
    "    )\n",
    "\n",
    "    model = GraphSAGE(dim_in=128, dim_h=64, dim_out=16, num_layers=5)\n",
    "    model.fit(epochs=1, train_batch_loader=tbl)\n"
   ]
  },
  {
   "attachments": {},
   "cell_type": "markdown",
   "metadata": {},
   "source": [
    "## Compute embeddings"
   ]
  },
  {
   "cell_type": "code",
   "execution_count": 42,
   "metadata": {},
   "outputs": [
    {
     "name": "stdout",
     "output_type": "stream",
     "text": [
      "Evaluating layer 1/5\n",
      "Evaluating layer 2/5\n"
     ]
    },
    {
     "ename": "Exception",
     "evalue": "The node id \"2334102065170612224\" does not exist in the feature store",
     "output_type": "error",
     "traceback": [
      "\u001b[0;31m---------------------------------------------------------------------------\u001b[0m",
      "\u001b[0;31mException\u001b[0m                                 Traceback (most recent call last)",
      "Cell \u001b[0;32mIn[42], line 6\u001b[0m\n\u001b[1;32m      3\u001b[0m batch_size \u001b[39m=\u001b[39m \u001b[39m1000\u001b[39m\n\u001b[1;32m      4\u001b[0m num_neighbors \u001b[39m=\u001b[39m [\u001b[39m5\u001b[39m, \u001b[39m5\u001b[39m]\n\u001b[0;32m----> 6\u001b[0m model\u001b[39m.\u001b[39;49mcompute_embeddings(\n\u001b[1;32m      7\u001b[0m     client\u001b[39m=\u001b[39;49mclient,\n\u001b[1;32m      8\u001b[0m     initial_feature_store_name\u001b[39m=\u001b[39;49minitial_feature_store_name,\n\u001b[1;32m      9\u001b[0m     batch_size\u001b[39m=\u001b[39;49mbatch_size,\n\u001b[1;32m     10\u001b[0m     num_neighbors\u001b[39m=\u001b[39;49mnum_neighbors,\n\u001b[1;32m     11\u001b[0m )\n",
      "Cell \u001b[0;32mIn[40], line 106\u001b[0m, in \u001b[0;36mGraphSAGE.compute_embeddings\u001b[0;34m(self, client, initial_feature_store_name, batch_size, num_neighbors)\u001b[0m\n\u001b[1;32m    104\u001b[0m \u001b[39mfor\u001b[39;00m idx, layer \u001b[39min\u001b[39;00m \u001b[39menumerate\u001b[39m(\u001b[39mself\u001b[39m\u001b[39m.\u001b[39mconvs[\u001b[39m1\u001b[39m:\u001b[39m-\u001b[39m\u001b[39m1\u001b[39m]):\n\u001b[1;32m    105\u001b[0m     \u001b[39mprint\u001b[39m(\u001b[39mf\u001b[39m\u001b[39m\"\u001b[39m\u001b[39mEvaluating layer \u001b[39m\u001b[39m{\u001b[39;00midx\u001b[39m \u001b[39m\u001b[39m+\u001b[39m\u001b[39m \u001b[39m\u001b[39m2\u001b[39m\u001b[39m}\u001b[39;00m\u001b[39m/\u001b[39m\u001b[39m{\u001b[39;00m\u001b[39mself\u001b[39m\u001b[39m.\u001b[39mnum_layers\u001b[39m}\u001b[39;00m\u001b[39m\"\u001b[39m)\n\u001b[0;32m--> 106\u001b[0m     \u001b[39mfor\u001b[39;00m batch \u001b[39min\u001b[39;00m EvalBatchLoader(\u001b[39m*\u001b[39m\u001b[39m*\u001b[39mebl_args, feature_store_name\u001b[39m=\u001b[39mprev_store\u001b[39m.\u001b[39mname):\n\u001b[1;32m    107\u001b[0m         num_seeds \u001b[39m=\u001b[39m \u001b[39mlen\u001b[39m(batch\u001b[39m.\u001b[39mseed_ids)\n\u001b[1;32m    108\u001b[0m         h \u001b[39m=\u001b[39m layer(batch\u001b[39m.\u001b[39mnode_features, batch\u001b[39m.\u001b[39medge_index)[:num_seeds]\n",
      "File \u001b[0;32m~/PyMDB/examples/../pymdb/utils/decorators.py:11\u001b[0m, in \u001b[0;36mcheck_closed.<locals>.wrapper\u001b[0;34m(self, *args, **kwargs)\u001b[0m\n\u001b[1;32m      9\u001b[0m \u001b[39mif\u001b[39;00m \u001b[39mself\u001b[39m\u001b[39m.\u001b[39m_closed:\n\u001b[1;32m     10\u001b[0m     \u001b[39mraise\u001b[39;00m \u001b[39mException\u001b[39;00m(\u001b[39mf\u001b[39m\u001b[39m\"\u001b[39m\u001b[39m{\u001b[39;00m\u001b[39mself\u001b[39m\u001b[39m.\u001b[39m\u001b[39m__class__\u001b[39m\u001b[39m.\u001b[39m\u001b[39m__name__\u001b[39m\u001b[39m}\u001b[39;00m\u001b[39m instance is closed\u001b[39m\u001b[39m\"\u001b[39m)\n\u001b[0;32m---> 11\u001b[0m \u001b[39mreturn\u001b[39;00m func(\u001b[39mself\u001b[39;49m, \u001b[39m*\u001b[39;49margs, \u001b[39m*\u001b[39;49m\u001b[39m*\u001b[39;49mkwargs)\n",
      "File \u001b[0;32m~/PyMDB/examples/../pymdb/batch_loader/batch_loader.py:47\u001b[0m, in \u001b[0;36mBatchLoader.__next__\u001b[0;34m(self)\u001b[0m\n\u001b[1;32m     45\u001b[0m \u001b[39m@decorators\u001b[39m\u001b[39m.\u001b[39mcheck_closed\n\u001b[1;32m     46\u001b[0m \u001b[39mdef\u001b[39;00m \u001b[39m__next__\u001b[39m(\u001b[39mself\u001b[39m) \u001b[39m-\u001b[39m\u001b[39m>\u001b[39m Graph:\n\u001b[0;32m---> 47\u001b[0m     \u001b[39mreturn\u001b[39;00m \u001b[39mself\u001b[39;49m\u001b[39m.\u001b[39;49m_next()\n",
      "File \u001b[0;32m~/PyMDB/examples/../pymdb/batch_loader/batch_loader.py:67\u001b[0m, in \u001b[0;36mBatchLoader._next\u001b[0;34m(self)\u001b[0m\n\u001b[1;32m     64\u001b[0m \u001b[39mself\u001b[39m\u001b[39m.\u001b[39mclient\u001b[39m.\u001b[39m_send(msg)\n\u001b[1;32m     66\u001b[0m \u001b[39m# Handle response\u001b[39;00m\n\u001b[0;32m---> 67\u001b[0m data, code \u001b[39m=\u001b[39m \u001b[39mself\u001b[39;49m\u001b[39m.\u001b[39;49mclient\u001b[39m.\u001b[39;49m_recv()\n\u001b[1;32m     69\u001b[0m \u001b[39mif\u001b[39;00m code \u001b[39m==\u001b[39m StatusCode\u001b[39m.\u001b[39mEND_OF_ITERATION:\n\u001b[1;32m     70\u001b[0m     \u001b[39mraise\u001b[39;00m \u001b[39mStopIteration\u001b[39;00m\n",
      "File \u001b[0;32m~/PyMDB/examples/../pymdb/utils/decorators.py:11\u001b[0m, in \u001b[0;36mcheck_closed.<locals>.wrapper\u001b[0;34m(self, *args, **kwargs)\u001b[0m\n\u001b[1;32m      9\u001b[0m \u001b[39mif\u001b[39;00m \u001b[39mself\u001b[39m\u001b[39m.\u001b[39m_closed:\n\u001b[1;32m     10\u001b[0m     \u001b[39mraise\u001b[39;00m \u001b[39mException\u001b[39;00m(\u001b[39mf\u001b[39m\u001b[39m\"\u001b[39m\u001b[39m{\u001b[39;00m\u001b[39mself\u001b[39m\u001b[39m.\u001b[39m\u001b[39m__class__\u001b[39m\u001b[39m.\u001b[39m\u001b[39m__name__\u001b[39m\u001b[39m}\u001b[39;00m\u001b[39m instance is closed\u001b[39m\u001b[39m\"\u001b[39m)\n\u001b[0;32m---> 11\u001b[0m \u001b[39mreturn\u001b[39;00m func(\u001b[39mself\u001b[39;49m, \u001b[39m*\u001b[39;49margs, \u001b[39m*\u001b[39;49m\u001b[39m*\u001b[39;49mkwargs)\n",
      "File \u001b[0;32m~/PyMDB/examples/../pymdb/mdb_client/mdb_client.py:71\u001b[0m, in \u001b[0;36mMDBClient._recv\u001b[0;34m(self)\u001b[0m\n\u001b[1;32m     69\u001b[0m \u001b[39m# Check if the server threw an exception\u001b[39;00m\n\u001b[1;32m     70\u001b[0m \u001b[39mif\u001b[39;00m protocol\u001b[39m.\u001b[39merror_status(msg[\u001b[39m0\u001b[39m]):\n\u001b[0;32m---> 71\u001b[0m     \u001b[39mraise\u001b[39;00m \u001b[39mException\u001b[39;00m(data\u001b[39m.\u001b[39mdecode(\u001b[39m\"\u001b[39m\u001b[39mutf-8\u001b[39m\u001b[39m\"\u001b[39m))\n\u001b[1;32m     72\u001b[0m \u001b[39mreturn\u001b[39;00m data, protocol\u001b[39m.\u001b[39mdecode_status(msg[\u001b[39m0\u001b[39m])\n",
      "\u001b[0;31mException\u001b[0m: The node id \"2334102065170612224\" does not exist in the feature store"
     ]
    }
   ],
   "source": [
    "with MDBClient() as client:\n",
    "    initial_feature_store_name = \"github\"\n",
    "    batch_size = 1000\n",
    "    num_neighbors = [5, 5]\n",
    "\n",
    "    model.compute_embeddings(\n",
    "        client=client,\n",
    "        initial_feature_store_name=initial_feature_store_name,\n",
    "        batch_size=batch_size,\n",
    "        num_neighbors=num_neighbors,\n",
    "    )\n"
   ]
  },
  {
   "cell_type": "code",
   "execution_count": 45,
   "metadata": {},
   "outputs": [
    {
     "name": "stdout",
     "output_type": "stream",
     "text": [
      "37700\n"
     ]
    }
   ],
   "source": [
    "with MDBClient() as client:\n",
    "    ebl = EvalBatchLoader(\n",
    "        client=client,\n",
    "        batch_size=1000,\n",
    "        num_neighbors=[5, 5],\n",
    "        feature_store_name=\"github\"\n",
    "    )\n",
    "    tot = 0\n",
    "    for batch in ebl:\n",
    "        tot+=len(batch.seed_ids)\n",
    "    print(tot)"
   ]
  }
 ],
 "metadata": {
  "kernelspec": {
   "display_name": "Python 3",
   "language": "python",
   "name": "python3"
  },
  "language_info": {
   "codemirror_mode": {
    "name": "ipython",
    "version": 3
   },
   "file_extension": ".py",
   "mimetype": "text/x-python",
   "name": "python",
   "nbconvert_exporter": "python",
   "pygments_lexer": "ipython3",
   "version": "3.10.6"
  },
  "orig_nbformat": 4,
  "vscode": {
   "interpreter": {
    "hash": "31f2aee4e71d21fbe5cf8b01ff0e069b9275f58929596ceb00d14d90e3e16cd6"
   }
  }
 },
 "nbformat": 4,
 "nbformat_minor": 2
}
