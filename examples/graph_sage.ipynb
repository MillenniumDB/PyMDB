{
 "cells": [
  {
   "attachments": {},
   "cell_type": "markdown",
   "metadata": {},
   "source": [
    "# GraphSAGE"
   ]
  },
  {
   "cell_type": "code",
   "execution_count": 11,
   "metadata": {},
   "outputs": [],
   "source": [
    "import sys\n",
    "\n",
    "# Necessary to import from sibling directory\n",
    "sys.path.append(\"..\")\n",
    "\n",
    "from typing import TYPE_CHECKING\n",
    "\n",
    "from pymdb import (\n",
    "    MDBClient,\n",
    "    TrainGraphLoader,\n",
    "    EvalGraphLoader,\n",
    "    SamplingGraphLoader,\n",
    "    FeatureStoreManager,\n",
    "    Sampler,\n",
    ")\n",
    "\n",
    "import torch\n",
    "import torch.nn.functional as F\n",
    "from torch_geometric.nn import SAGEConv\n",
    "\n",
    "if TYPE_CHECKING:\n",
    "    from pymdb import GraphLoader\n"
   ]
  },
  {
   "attachments": {},
   "cell_type": "markdown",
   "metadata": {},
   "source": [
    "## Model"
   ]
  },
  {
   "cell_type": "code",
   "execution_count": 12,
   "metadata": {},
   "outputs": [],
   "source": [
    "class GraphSAGE(torch.nn.Module):\n",
    "    def __init__(\n",
    "        self,\n",
    "        dim_in: int,\n",
    "        dim_h: int,\n",
    "        dim_out: int,\n",
    "        num_layers: int,\n",
    "    ):\n",
    "        if num_layers < 2:\n",
    "            raise ValueError(\"Number of layers must be greater than 1\")\n",
    "        super().__init__()\n",
    "        self.convs = torch.nn.ModuleList()\n",
    "        self.convs.append(SAGEConv(dim_in, dim_h))\n",
    "        for _ in range(num_layers - 2):\n",
    "            self.convs.append(SAGEConv(dim_h, dim_h))\n",
    "        self.convs.append(SAGEConv(dim_h, dim_out))\n",
    "\n",
    "        self.dim_in = dim_in\n",
    "        self.dim_h = dim_h\n",
    "        self.dim_out = dim_out\n",
    "        self.num_layers = num_layers\n",
    "\n",
    "    def reset_parameters(self):\n",
    "        for conv in self.convs:\n",
    "            conv.reset_parameters()\n",
    "\n",
    "    def forward(\n",
    "        self,\n",
    "        node_features: torch.Tensor,  # [num_nodes, feature_size]\n",
    "        edge_index: torch.Tensor,  # [2, feature_size]\n",
    "    ) -> torch.Tensor:\n",
    "        h = node_features\n",
    "        for layer in self.convs[:-1]:\n",
    "            h = layer(h, edge_index)\n",
    "            h = F.relu(h)\n",
    "            h = F.dropout(h, p=0.5, training=self.training)\n",
    "        return self.convs[-1](h, edge_index)  # Embedding\n"
   ]
  },
  {
   "attachments": {},
   "cell_type": "markdown",
   "metadata": {},
   "source": [
    "## Trainers"
   ]
  },
  {
   "attachments": {},
   "cell_type": "markdown",
   "metadata": {},
   "source": [
    "### fit_unsup"
   ]
  },
  {
   "cell_type": "code",
   "execution_count": 17,
   "metadata": {},
   "outputs": [],
   "source": [
    "def fit_unsup(\n",
    "    model: \"GraphSAGE\",\n",
    "    epochs: int,\n",
    "    graph_loader: \"GraphLoader\",\n",
    "):\n",
    "    model.train()\n",
    "    criterion = torch.nn.CrossEntropyLoss()\n",
    "    optimizer = torch.optim.Adam(model.parameters(), lr=0.01)\n",
    "\n",
    "    for epoch in range(epochs + 1):\n",
    "        total_seeds = 0\n",
    "        total_loss = 0\n",
    "        total_correct = 0\n",
    "        for batch in graph_loader:\n",
    "            optimizer.zero_grad()\n",
    "\n",
    "            out = model(batch.node_features, batch.edge_index)[: batch.num_seeds]\n",
    "            y_pred = F.log_softmax(out, dim=-1)\n",
    "            y_true = batch.node_labels[: batch.num_seeds]\n",
    "\n",
    "            loss = criterion(y_pred, y_true)\n",
    "            loss.backward()\n",
    "            optimizer.step()\n",
    "\n",
    "            total_seeds += batch.num_seeds\n",
    "            total_loss += loss\n",
    "            total_correct += y_pred.argmax(dim=-1).eq(y_true).sum().item()\n",
    "\n",
    "        if epoch % 50 == 0 or epoch == epochs:\n",
    "            epoch_loss = total_loss / len(graph_loader)\n",
    "            epoch_acc = 100 * total_correct / total_seeds\n",
    "            print(f\"Epoch {epoch: 4d} | Loss: {epoch_loss:.4f} | Acc: {epoch_acc:.2f}%\")\n"
   ]
  },
  {
   "cell_type": "code",
   "execution_count": 28,
   "metadata": {},
   "outputs": [
    {
     "name": "stdout",
     "output_type": "stream",
     "text": [
      "Training with SamplingGraphLoader\n",
      "--------------------------------------------------\n",
      "Epoch    0 | Loss: 2.2622 | Acc: 42.58%\n"
     ]
    }
   ],
   "source": [
    "with MDBClient() as client:\n",
    "    # Parameters\n",
    "    model_args = {\n",
    "        \"dim_in\": 128,\n",
    "        \"dim_h\": 64,\n",
    "        \"dim_out\": 16,\n",
    "        \"num_layers\": 5,\n",
    "    }\n",
    "    graph_loader_args = {\n",
    "        \"batch_size\": 64,\n",
    "        \"num_neighbors\": [5, 5],\n",
    "        \"feature_store_name\": \"github\",\n",
    "    }\n",
    "    epochs = 300\n",
    "    num_seeds = 256\n",
    "\n",
    "    model = GraphSAGE(**model_args)\n",
    "\n",
    "    # Initialize both graph loaders\n",
    "    sampler = Sampler(client=client)\n",
    "    seed_ids = sampler.get_seed_ids(num_seeds)\n",
    "    tgl = TrainGraphLoader(client=client, seed_ids=seed_ids, **graph_loader_args)\n",
    "    sgl = SamplingGraphLoader(client=client, num_seeds=num_seeds, **graph_loader_args)\n",
    "\n",
    "    # Train with both graph loaders\n",
    "    for loader in [sgl, tgl]:\n",
    "        print(f\"Training with {loader.__class__.__name__}...\")\n",
    "        print(\"-\" * 50)\n",
    "        fit_unsup(\n",
    "            model=model,\n",
    "            epochs=epochs,\n",
    "            graph_loader=tgl,\n",
    "        )\n",
    "        model.reset_parameters()\n"
   ]
  },
  {
   "attachments": {},
   "cell_type": "markdown",
   "metadata": {},
   "source": [
    "### fit_unsup_with_embeddings\n",
    "\n",
    "This trainer will use the original node features concatenated with the latest version of the computed embeddings. If no embeding is found, a tensor of zeroes is used. The model must have `dim_features + dim_embedding` dimensions on each layer until the final layer of `dim_embedding`."
   ]
  },
  {
   "cell_type": "code",
   "execution_count": null,
   "metadata": {},
   "outputs": [],
   "source": [
    "def fit_unsup_with_embeddings(\n",
    "    model: \"GraphSAGE\",\n",
    "    epochs: int,\n",
    "    graph_loader: \"GraphLoader\",\n",
    "    feature_store_manager: \"FeatureStoreManager\",\n",
    "):\n",
    "    if model.dim_in < model.dim_out:\n",
    "        raise ValueError(\"Model must have dim_in >= dim_out\")\n",
    "    if model.dim_in != model.dim_h:\n",
    "        raise ValueError(\"Model must have dim_in == dim_h\")\n",
    "\n",
    "    dim_features = model.dim_in - model.dim_out\n",
    "    dim_embeddings = model.dim_out\n",
    "\n",
    "    model.train()\n",
    "    criterion = torch.nn.CrossEntropyLoss()\n",
    "    optimizer = torch.optim.Adam(model.parameters(), lr=0.01)\n",
    "\n",
    "    # Create a temporary feature store to store the latest embeddings\n",
    "    feature_store_names = feature_store_manager.list()\n",
    "    if \"temp\" in feature_store_names:\n",
    "        feature_store_manager.remove(\"temp\")\n",
    "    feature_store_manager.create(\"temp\", dim_embeddings)\n",
    "\n",
    "    temp_store = feature_store_manager.open(\"temp\")\n",
    "\n",
    "    for epoch in range(epochs + 1):\n",
    "        total_seeds = 0\n",
    "        total_loss = 0\n",
    "        total_correct = 0\n",
    "        for batch in graph_loader:\n",
    "            optimizer.zero_grad()\n",
    "\n",
    "            # Allocate space for concatenation\n",
    "            concat_features = torch.zeros(\n",
    "                len(batch.node_ids), dim_features + dim_embeddings\n",
    "            )\n",
    "            # Insert original node features\n",
    "            concat_features[:, :dim_features] = batch.node_features\n",
    "            # Insert latest available embeddings from temporary store\n",
    "            for idx, node_id in enumerate(batch.node_ids):\n",
    "                if node_id in temp_store:\n",
    "                    concat_features[idx, dim_features:] = temp_store[node_id]\n",
    "\n",
    "            out = model(concat_features, batch.edge_index)[: batch.num_seeds]\n",
    "\n",
    "            # Update seed node embeddings in temporary store\n",
    "            temp_store[batch.node_ids[: batch.num_seeds]] = out\n",
    "\n",
    "            y_pred = F.log_softmax(out, dim=-1)\n",
    "            y_true = batch.node_labels[: batch.num_seeds]\n",
    "\n",
    "            loss = criterion(y_pred, y_true)\n",
    "            loss.backward()\n",
    "            optimizer.step()\n",
    "\n",
    "            total_seeds += batch.num_seeds\n",
    "            total_loss += loss\n",
    "            total_correct += y_pred.argmax(dim=-1).eq(y_true).sum().item()\n",
    "\n",
    "        if epoch % 50 == 0 or epoch == epochs:\n",
    "            epoch_loss = total_loss / len(graph_loader)\n",
    "            epoch_acc = 100 * total_correct / total_seeds\n",
    "            print(f\"Epoch {epoch: 4d} | Loss: {epoch_loss:.4f} | Acc: {epoch_acc:.2f}%\")\n",
    "\n",
    "    # Cleanup\n",
    "    temp_store.close()\n",
    "    feature_store_manager.remove(\"temp\")\n"
   ]
  },
  {
   "cell_type": "code",
   "execution_count": null,
   "metadata": {},
   "outputs": [
    {
     "name": "stdout",
     "output_type": "stream",
     "text": [
      "Epoch    0 | Loss: 1.8908 | Acc: 55.08%\n",
      "Epoch   50 | Loss: 0.5938 | Acc: 76.95%\n",
      "Epoch  100 | Loss: 0.6461 | Acc: 73.05%\n",
      "Epoch  150 | Loss: 0.5951 | Acc: 74.61%\n",
      "Epoch  200 | Loss: 0.5516 | Acc: 77.34%\n",
      "Epoch  250 | Loss: 0.6345 | Acc: 76.56%\n",
      "Epoch  300 | Loss: 0.5330 | Acc: 77.34%\n"
     ]
    }
   ],
   "source": [
    "with MDBClient() as client:\n",
    "    dim_features = 128\n",
    "    dim_out = 16\n",
    "    num_layers = 5\n",
    "    model = GraphSAGE(\n",
    "        dim_in=dim_features + dim_out,\n",
    "        dim_h=dim_features + dim_out,\n",
    "        dim_out=dim_out,\n",
    "        num_layers=num_layers,\n",
    "    )\n",
    "\n",
    "    sampler = Sampler(client=client)\n",
    "    seeds_ids = sampler.get_seed_ids(num_seeds=256)\n",
    "    sgl = SamplingGraphLoader(\n",
    "        client=client,\n",
    "        feature_store_name=\"github\",\n",
    "        num_seeds=256,\n",
    "        batch_size=64,\n",
    "        num_neighbors=[5, 5],\n",
    "    )\n",
    "    fsm = FeatureStoreManager(client=client)\n",
    "\n",
    "    fit_unsup_with_embeddings(\n",
    "        model=model,\n",
    "        epochs=300,\n",
    "        graph_loader=sgl,\n",
    "        feature_store_manager=fsm,\n",
    "    )\n"
   ]
  }
 ],
 "metadata": {
  "kernelspec": {
   "display_name": "Python 3",
   "language": "python",
   "name": "python3"
  },
  "language_info": {
   "codemirror_mode": {
    "name": "ipython",
    "version": 3
   },
   "file_extension": ".py",
   "mimetype": "text/x-python",
   "name": "python",
   "nbconvert_exporter": "python",
   "pygments_lexer": "ipython3",
   "version": "3.10.6"
  },
  "orig_nbformat": 4,
  "vscode": {
   "interpreter": {
    "hash": "31f2aee4e71d21fbe5cf8b01ff0e069b9275f58929596ceb00d14d90e3e16cd6"
   }
  }
 },
 "nbformat": 4,
 "nbformat_minor": 2
}
