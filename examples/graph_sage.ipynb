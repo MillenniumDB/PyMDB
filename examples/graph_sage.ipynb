{
 "cells": [
  {
   "attachments": {},
   "cell_type": "markdown",
   "metadata": {},
   "source": [
    "# GraphSAGE"
   ]
  },
  {
   "cell_type": "code",
   "execution_count": 1,
   "metadata": {},
   "outputs": [],
   "source": [
    "# Necessary to import from sibling directory\n",
    "import sys\n",
    "sys.path.append(\"..\")\n",
    "\n",
    "from pymdb import MDBClient, BatchLoader\n",
    "\n",
    "import torch\n",
    "import torch.nn.functional as F\n",
    "from torch_geometric.nn import SAGEConv\n"
   ]
  },
  {
   "attachments": {},
   "cell_type": "markdown",
   "metadata": {},
   "source": [
    "## Model"
   ]
  },
  {
   "cell_type": "code",
   "execution_count": 2,
   "metadata": {},
   "outputs": [],
   "source": [
    "class GraphSAGE(torch.nn.Module):\n",
    "    def __init__(self, dim_in: int, dim_h: int, dim_out: int):\n",
    "        super().__init__()\n",
    "        self.sage1 = SAGEConv(dim_in, dim_h)\n",
    "        self.sage2 = SAGEConv(dim_h, dim_out)\n",
    "\n",
    "    def forward(\n",
    "        self,\n",
    "        x: torch.Tensor,  # [num_nodes, feature_size]\n",
    "        edge_index: torch.Tensor,  # [2, feature_size]\n",
    "    ):\n",
    "        h = self.sage1(x, edge_index)\n",
    "        h = torch.relu(h)\n",
    "        h = F.dropout(h, p=0.5, training=self.training)\n",
    "        h = self.sage2(h, edge_index)\n",
    "        # Return (embedding, class_prediction)\n",
    "        return h, F.log_softmax(h, dim=1)\n",
    "\n",
    "    def fit(self, epochs, batch_loader):\n",
    "        self.train()\n",
    "        criterion = torch.nn.CrossEntropyLoss()\n",
    "        optimizer = torch.optim.Adam(self.parameters(), lr=0.01, weight_decay=5e-4)\n",
    "        accuracy = lambda y_pred, y: ((y_pred == y).sum() / len(y)).item()\n",
    "        for epoch in range(epochs + 1):\n",
    "            # Train on batches\n",
    "            for batch in batch_loader:\n",
    "                optimizer.zero_grad()\n",
    "                _, out = self(batch.node_features, batch.edge_index)\n",
    "\n",
    "                loss = criterion(out, batch.node_labels)\n",
    "                acc = accuracy(out.argmax(dim=1), batch.node_labels)\n",
    "\n",
    "                loss.backward()\n",
    "                optimizer.step()\n",
    "\n",
    "            # Print metrics every 50 epochs\n",
    "            if epoch % 50 == 0:\n",
    "                print(\n",
    "                    f\"Epoch: {epoch:>3} | Train loss: {loss:.3f} | Train acc: {acc*100:>6.2f}%\"\n",
    "                )\n",
    "\n",
    "    def predict(self, X, edge_index):\n",
    "        self.eval()\n",
    "        return self(X, edge_index)\n"
   ]
  },
  {
   "attachments": {},
   "cell_type": "markdown",
   "metadata": {},
   "source": [
    "## Train"
   ]
  },
  {
   "cell_type": "code",
   "execution_count": 3,
   "metadata": {},
   "outputs": [
    {
     "name": "stdout",
     "output_type": "stream",
     "text": [
      "Epoch:   0 | Train loss: 0.432 | Train acc:  85.17%\n",
      "Epoch:  50 | Train loss: 0.226 | Train acc:  91.51%\n",
      "Epoch: 100 | Train loss: 0.209 | Train acc:  92.04%\n",
      "Epoch: 150 | Train loss: 0.206 | Train acc:  92.52%\n",
      "Epoch: 200 | Train loss: 0.173 | Train acc:  93.63%\n",
      "Epoch: 250 | Train loss: 0.180 | Train acc:  93.71%\n",
      "Epoch: 300 | Train loss: 0.178 | Train acc:  92.96%\n",
      "Epoch: 350 | Train loss: 0.209 | Train acc:  91.99%\n",
      "Epoch: 400 | Train loss: 0.172 | Train acc:  93.39%\n",
      "Epoch: 450 | Train loss: 0.166 | Train acc:  93.92%\n",
      "Epoch: 500 | Train loss: 0.165 | Train acc:  93.79%\n"
     ]
    }
   ],
   "source": [
    "with MDBClient(host=\"127.0.0.1\", port=8080) as client:\n",
    "    batch_loader = BatchLoader(\n",
    "        client=client,\n",
    "        feature_store_name=\"github\",\n",
    "        num_seeds=256,\n",
    "        batch_size=64,\n",
    "        neighbor_sizes=[10, 5],\n",
    "        seed=2023,\n",
    "    )\n",
    "\n",
    "    model = GraphSAGE(dim_in=128, dim_h=64, dim_out=2)\n",
    "    model.fit(epochs=500, batch_loader=batch_loader)\n"
   ]
  }
 ],
 "metadata": {
  "kernelspec": {
   "display_name": "Python 3",
   "language": "python",
   "name": "python3"
  },
  "language_info": {
   "codemirror_mode": {
    "name": "ipython",
    "version": 3
   },
   "file_extension": ".py",
   "mimetype": "text/x-python",
   "name": "python",
   "nbconvert_exporter": "python",
   "pygments_lexer": "ipython3",
   "version": "3.10.6"
  },
  "orig_nbformat": 4,
  "vscode": {
   "interpreter": {
    "hash": "31f2aee4e71d21fbe5cf8b01ff0e069b9275f58929596ceb00d14d90e3e16cd6"
   }
  }
 },
 "nbformat": 4,
 "nbformat_minor": 2
}
