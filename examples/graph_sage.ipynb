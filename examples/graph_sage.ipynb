{
 "cells": [
  {
   "attachments": {},
   "cell_type": "markdown",
   "metadata": {},
   "source": [
    "# GraphSAGE"
   ]
  },
  {
   "cell_type": "code",
   "execution_count": 25,
   "metadata": {},
   "outputs": [],
   "source": [
    "import sys\n",
    "\n",
    "# Necessary to import from sibling directory\n",
    "sys.path.append(\"..\")\n",
    "\n",
    "from pymdb import (\n",
    "    MDBClient,\n",
    "    TrainBatchLoader,\n",
    "    EvalBatchLoader,\n",
    "    FeatureStoreManager,\n",
    "    Sampler,\n",
    ")\n",
    "\n",
    "import torch\n",
    "import torch.nn.functional as F\n",
    "from torch_geometric.nn import SAGEConv"
   ]
  },
  {
   "attachments": {},
   "cell_type": "markdown",
   "metadata": {},
   "source": [
    "## Model"
   ]
  },
  {
   "cell_type": "code",
   "execution_count": 29,
   "metadata": {},
   "outputs": [],
   "source": [
    "class GraphSAGE(torch.nn.Module):\n",
    "    def __init__(\n",
    "        self,\n",
    "        dim_in: int,\n",
    "        dim_h: int,\n",
    "        dim_out: int,\n",
    "        num_layers: int,\n",
    "    ):\n",
    "        if num_layers < 2:\n",
    "            raise ValueError(\"Number of layers must be greater than 1\")\n",
    "        super().__init__()\n",
    "        self.convs = torch.nn.ModuleList()\n",
    "        self.convs.append(SAGEConv(dim_in, dim_h))\n",
    "        for _ in range(num_layers - 2):\n",
    "            self.convs.append(SAGEConv(dim_h, dim_h))\n",
    "        self.convs.append(SAGEConv(dim_h, dim_out))\n",
    "\n",
    "    def reset_parameters(self):\n",
    "        for conv in self.convs:\n",
    "            conv.reset_parameters()\n",
    "\n",
    "    def forward(\n",
    "        self,\n",
    "        node_features: torch.Tensor,  # [num_nodes, feature_size]\n",
    "        edge_index: torch.Tensor,  # [2, feature_size]\n",
    "    ) -> torch.Tensor:\n",
    "        h = node_features\n",
    "        for layer in self.convs[:-1]:\n",
    "            h = layer(h, edge_index)\n",
    "            h = F.relu(h)\n",
    "            h = F.dropout(h, p=0.5, training=self.training)\n",
    "        return self.convs[-1](h, edge_index)  # Embedding\n"
   ]
  },
  {
   "attachments": {},
   "cell_type": "markdown",
   "metadata": {},
   "source": [
    "## Trainers"
   ]
  },
  {
   "cell_type": "code",
   "execution_count": 49,
   "metadata": {},
   "outputs": [],
   "source": [
    "def fit_normal(\n",
    "    model: \"GraphSAGE\",\n",
    "    epochs: int,\n",
    "    train_batch_loader: \"TrainBatchLoader\",\n",
    "):\n",
    "    model.train()\n",
    "    criterion = torch.nn.CrossEntropyLoss()\n",
    "    optimizer = torch.optim.Adam(model.parameters(), lr=0.01)\n",
    "\n",
    "    for epoch in range(1, epochs):\n",
    "        total_loss = total_correct = 0\n",
    "        for batch in train_batch_loader:\n",
    "            optimizer.zero_grad()\n",
    "\n",
    "            out = model(batch.node_features, batch.edge_index)[: batch.num_seeds]\n",
    "            y_pred = F.log_softmax(out, dim=-1)  # print this\n",
    "            y_true = batch.node_labels[: batch.num_seeds]  # print this\n",
    "\n",
    "            loss = criterion(y_pred, y_true)\n",
    "            loss.backward()\n",
    "            optimizer.step()\n",
    "\n",
    "            total_loss += loss\n",
    "            total_correct += y_pred.argmax(dim=-1).eq(y_true).sum().item()\n",
    "\n",
    "        if epoch % 10 == 0 or epoch == epochs - 1:\n",
    "            epoch_loss = total_loss / len(train_batch_loader)\n",
    "            epoch_acc = total_correct / len(train_batch_loader.seed_ids)\n",
    "            print(f\"Epoch {epoch: 4d} | Loss: {epoch_loss:.4f} | Acc: {100*epoch_acc:.2f}%\")\n"
   ]
  },
  {
   "cell_type": "code",
   "execution_count": 50,
   "metadata": {},
   "outputs": [
    {
     "name": "stdout",
     "output_type": "stream",
     "text": [
      "Epoch    0 | Loss: 2.0556 | Acc: 44.53%\n",
      "Epoch   10 | Loss: 0.4355 | Acc: 73.83%\n",
      "Epoch   19 | Loss: 0.3599 | Acc: 84.38%\n"
     ]
    }
   ],
   "source": [
    "with MDBClient() as client:\n",
    "    model = GraphSAGE(dim_in=128, dim_h=64, dim_out=16, num_layers=5)\n",
    "\n",
    "    sampler = Sampler(client=client)\n",
    "    seeds_ids = sampler.get_seed_ids(num_seeds=256)\n",
    "    tbl = TrainBatchLoader(\n",
    "        client=client,\n",
    "        feature_store_name=\"github\",\n",
    "        batch_size=64,\n",
    "        num_neighbors=[5, 5],\n",
    "        seed_ids=seeds_ids,\n",
    "    )\n",
    "\n",
    "    fit_normal(model, epochs=20, train_batch_loader=tbl)\n"
   ]
  },
  {
   "cell_type": "code",
   "execution_count": null,
   "metadata": {},
   "outputs": [],
   "source": [
    "\"\"\"\n",
    "    def fit(\n",
    "        self,\n",
    "        epochs: int,\n",
    "        train_batch_loader: \"TrainBatchLoader\",\n",
    "    ):\n",
    "        self.train()\n",
    "        criterion = torch.nn.CrossEntropyLoss()\n",
    "        optimizer = torch.optim.Adam(self.parameters(), lr=0.01, weight_decay=5e-4)\n",
    "        accuracy = lambda y_pred, y: ((y_pred == y).sum() / len(y)).item()\n",
    "        for epoch in range(epochs + 1):\n",
    "            # Train on batches\n",
    "            for batch in train_batch_loader:\n",
    "                optimizer.zero_grad()\n",
    "                out = self(batch.node_features, batch.edge_index)[1][:batch.num_seeds]\n",
    "                loss = criterion(out, batch.node_labels[:batch.num_seeds])\n",
    "                acc = accuracy(out.argmax(dim=1), batch.node_labels[:batch.num_seeds])\n",
    "                loss.backward()\n",
    "                optimizer.step()\n",
    "            # Print metrics every 50 epochs\n",
    "            if epoch % 50 == 0:\n",
    "                print(\n",
    "                    f\"Epoch: {epoch:>3} | Train loss: {loss:.3f} | Train acc: {acc*100:>6.2f}%\"\n",
    "                )\n",
    "\n",
    "    def compute_embeddings(\n",
    "        self,\n",
    "        client: \"MDBClient\",\n",
    "        initial_feature_store_name: str,\n",
    "        batch_size: int,\n",
    "        num_neighbors: List[int],\n",
    "    ):\n",
    "        self.eval()\n",
    "        ebl_args = {\n",
    "            \"client\": client,\n",
    "            \"batch_size\": batch_size,\n",
    "            \"num_neighbors\": num_neighbors,\n",
    "        }\n",
    "\n",
    "        fsm = FeatureStoreManager(client)\n",
    "\n",
    "        store_names = fsm.list()\n",
    "        if \"temp1\" in store_names:\n",
    "            fsm.remove(\"temp1\")\n",
    "        if \"temp2\" in store_names:\n",
    "            fsm.remove(\"temp2\")\n",
    "        if \"final\" in store_names:\n",
    "            fsm.remove(\"final\")\n",
    "\n",
    "        fsm.create(name=\"temp1\", feature_size=self.dim_h)\n",
    "        fsm.create(name=\"temp2\", feature_size=self.dim_h)\n",
    "        fsm.create(name=\"final\", feature_size=self.dim_out)\n",
    "\n",
    "        prev_store = fsm.open(\"temp1\")\n",
    "        curr_store = fsm.open(\"temp2\")\n",
    "        final_store = fsm.open(\"final\")\n",
    "\n",
    "        print(f\"Evaluating layer 1/{self.num_layers}\")\n",
    "        for batch in EvalBatchLoader(\n",
    "            **ebl_args, feature_store_name=initial_feature_store_name\n",
    "        ):\n",
    "            h = self.convs[0](batch.node_features, batch.edge_index)[:batch.num_seeds]\n",
    "            h = F.relu(h)\n",
    "            h = F.dropout(h, p=0.5, training=self.training)\n",
    "            prev_store[batch.node_ids[:batch.num_seeds]] = h\n",
    "        # Flush the store to disk\n",
    "        prev_store.close()\n",
    "        prev_store = fsm.open(prev_store.name)\n",
    "\n",
    "        # From now the variable prev_store is used for READ ONLY, while curr_store is\n",
    "        # used for WRITE ONLY\n",
    "        for idx, layer in enumerate(self.convs[1:-1]):\n",
    "            print(f\"Evaluating layer {idx + 2}/{self.num_layers}\")\n",
    "            for batch in EvalBatchLoader(**ebl_args, feature_store_name=prev_store.name):\n",
    "                h = layer(batch.node_features, batch.edge_index)[:batch.num_seeds]\n",
    "                h = F.relu(h)\n",
    "                h = F.dropout(h, p=0.5, training=self.training)\n",
    "                curr_store[batch.node_ids[:batch.num_seeds]] = h\n",
    "            # Flush the store to disk\n",
    "            curr_store.close()\n",
    "            curr_store = fsm.open(curr_store.name)\n",
    "            # Swap store references\n",
    "            prev_store, curr_store = curr_store, prev_store\n",
    "\n",
    "        print(f\"Evaluating layer {self.num_layers}/{self.num_layers}\")\n",
    "        for batch in EvalBatchLoader(**ebl_args, feature_store_name=prev_store.name):\n",
    "            h = self.convs[-1](batch.node_features, batch.edge_index)[:batch.num_seeds]\n",
    "            final_store[batch.node_ids[:batch.num_seeds]] = h\n",
    "\n",
    "        print(\n",
    "            f\"Done. Final embeddings are stored in the FeatureStore {final_store.name}\"\n",
    "        )\n",
    "\n",
    "        prev_store.close()\n",
    "        curr_store.close()\n",
    "        final_store.close()\n",
    "\n",
    "        # Remove temporary stores\n",
    "        fsm.remove(\"temp1\")\n",
    "        fsm.remove(\"temp2\")\n",
    "        \"\"\""
   ]
  },
  {
   "attachments": {},
   "cell_type": "markdown",
   "metadata": {},
   "source": [
    "## Train"
   ]
  },
  {
   "cell_type": "code",
   "execution_count": 11,
   "metadata": {},
   "outputs": [
    {
     "name": "stdout",
     "output_type": "stream",
     "text": [
      "Epoch:   0 | Train loss: 1.007 | Train acc:  67.19%\n",
      "Epoch:  50 | Train loss: 0.082 | Train acc:  96.88%\n",
      "Epoch: 100 | Train loss: 0.067 | Train acc:  98.44%\n",
      "Epoch: 150 | Train loss: 0.041 | Train acc:  98.44%\n",
      "Epoch: 200 | Train loss: 0.155 | Train acc:  96.88%\n",
      "Epoch: 250 | Train loss: 0.145 | Train acc:  95.31%\n",
      "Epoch: 300 | Train loss: 0.057 | Train acc:  98.44%\n"
     ]
    }
   ],
   "source": [
    "with MDBClient() as client:\n",
    "    sampler = Sampler(client=client)\n",
    "    seeds_ids = sampler.get_seed_ids(num_seeds=256)\n",
    "    tbl = TrainBatchLoader(\n",
    "        client=client,\n",
    "        feature_store_name=\"github\",\n",
    "        batch_size=64,\n",
    "        num_neighbors=[5, 5],\n",
    "        seed_ids=seeds_ids,\n",
    "    )\n",
    "\n",
    "    model = GraphSAGE(dim_in=128, dim_h=64, dim_out=16, num_layers=5)\n",
    "    model.fit(epochs=300, train_batch_loader=tbl)\n"
   ]
  },
  {
   "attachments": {},
   "cell_type": "markdown",
   "metadata": {},
   "source": [
    "## Compute embeddings"
   ]
  },
  {
   "cell_type": "code",
   "execution_count": 12,
   "metadata": {},
   "outputs": [
    {
     "name": "stdout",
     "output_type": "stream",
     "text": [
      "Evaluating layer 1/5\n",
      "Evaluating layer 2/5\n",
      "Evaluating layer 3/5\n",
      "Evaluating layer 4/5\n",
      "Evaluating layer 5/5\n",
      "Done. Final embeddings are stored in the FeatureStore final\n"
     ]
    }
   ],
   "source": [
    "with MDBClient() as client:\n",
    "    initial_feature_store_name = \"github\"\n",
    "    batch_size = 5000\n",
    "    num_neighbors = [5, 5]\n",
    "\n",
    "    model.compute_embeddings(\n",
    "        client=client,\n",
    "        initial_feature_store_name=initial_feature_store_name,\n",
    "        batch_size=batch_size,\n",
    "        num_neighbors=num_neighbors,\n",
    "    )\n"
   ]
  }
 ],
 "metadata": {
  "kernelspec": {
   "display_name": "Python 3",
   "language": "python",
   "name": "python3"
  },
  "language_info": {
   "codemirror_mode": {
    "name": "ipython",
    "version": 3
   },
   "file_extension": ".py",
   "mimetype": "text/x-python",
   "name": "python",
   "nbconvert_exporter": "python",
   "pygments_lexer": "ipython3",
   "version": "3.10.6"
  },
  "orig_nbformat": 4,
  "vscode": {
   "interpreter": {
    "hash": "31f2aee4e71d21fbe5cf8b01ff0e069b9275f58929596ceb00d14d90e3e16cd6"
   }
  }
 },
 "nbformat": 4,
 "nbformat_minor": 2
}
