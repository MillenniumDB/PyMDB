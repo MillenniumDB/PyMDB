{
 "cells": [
  {
   "attachments": {},
   "cell_type": "markdown",
   "metadata": {},
   "source": [
    "# GraphSAGE"
   ]
  },
  {
   "cell_type": "code",
   "execution_count": 4,
   "metadata": {},
   "outputs": [],
   "source": [
    "# Necessary to import from sibling directory\n",
    "import sys\n",
    "sys.path.append(\"..\")\n",
    "\n",
    "from pymdb import MDBClient, BatchLoader\n",
    "\n",
    "import torch\n",
    "import torch.nn.functional as F\n",
    "from torch_geometric.nn import SAGEConv\n"
   ]
  },
  {
   "attachments": {},
   "cell_type": "markdown",
   "metadata": {},
   "source": [
    "## Model"
   ]
  },
  {
   "cell_type": "code",
   "execution_count": 5,
   "metadata": {},
   "outputs": [],
   "source": [
    "class GraphSAGE(torch.nn.Module):\n",
    "    def __init__(self, dim_in: int, dim_h: int, dim_out: int):\n",
    "        super().__init__()\n",
    "        self.sage1 = SAGEConv(dim_in, dim_h)\n",
    "        self.sage2 = SAGEConv(dim_h, dim_out)\n",
    "\n",
    "    def forward(\n",
    "        self,\n",
    "        x: torch.Tensor,  # [num_nodes, feature_size]\n",
    "        edge_index: torch.Tensor,  # [2, feature_size]\n",
    "    ):\n",
    "        h = self.sage1(x, edge_index)\n",
    "        h = torch.relu(h)\n",
    "        h = F.dropout(h, p=0.5, training=self.training)\n",
    "        h = self.sage2(h, edge_index)\n",
    "        # Return (embedding, class_prediction)\n",
    "        return h, F.log_softmax(h, dim=1)\n",
    "\n",
    "    def fit(self, epochs, batch_loader):\n",
    "        self.train()\n",
    "        criterion = torch.nn.CrossEntropyLoss()\n",
    "        optimizer = torch.optim.Adam(self.parameters(), lr=0.01, weight_decay=5e-4)\n",
    "        accuracy = lambda y_pred, y: ((y_pred == y).sum() / len(y)).item()\n",
    "        for epoch in range(epochs + 1):\n",
    "            # Train on batches\n",
    "            for batch in batch_loader:\n",
    "                optimizer.zero_grad()\n",
    "                _, out = self(batch.node_features, batch.edge_index)\n",
    "\n",
    "                loss = criterion(out, batch.node_labels)\n",
    "                acc = accuracy(out.argmax(dim=1), batch.node_labels)\n",
    "\n",
    "                loss.backward()\n",
    "                optimizer.step()\n",
    "\n",
    "            # Print metrics every 50 epochs\n",
    "            if epoch % 50 == 0:\n",
    "                print(\n",
    "                    f\"Epoch: {epoch:>3} | Train loss: {loss:.3f} | Train acc: {acc*100:>6.2f}%\"\n",
    "                )\n",
    "\n",
    "    def predict(self, X, edge_index):\n",
    "        self.eval()\n",
    "        return self(X, edge_index)\n"
   ]
  },
  {
   "attachments": {},
   "cell_type": "markdown",
   "metadata": {},
   "source": [
    "## Train"
   ]
  },
  {
   "cell_type": "code",
   "execution_count": 6,
   "metadata": {},
   "outputs": [
    {
     "name": "stdout",
     "output_type": "stream",
     "text": [
      "Epoch:   0 | Train loss: 0.417 | Train acc:  88.93%\n",
      "Epoch:  50 | Train loss: 0.241 | Train acc:  89.89%\n",
      "Epoch: 100 | Train loss: 0.203 | Train acc:  92.47%\n",
      "Epoch: 150 | Train loss: 0.220 | Train acc:  94.01%\n",
      "Epoch: 200 | Train loss: 0.226 | Train acc:  91.81%\n"
     ]
    }
   ],
   "source": [
    "with MDBClient(host=\"127.0.0.1\", port=8080) as client:\n",
    "    batch_loader = BatchLoader(\n",
    "        client=client,\n",
    "        feature_store_name=\"github\",\n",
    "        num_seeds=64,\n",
    "        batch_size=16,\n",
    "        neighbor_sizes=[10, 5],\n",
    "        seed=2023,\n",
    "    )\n",
    "\n",
    "    model = GraphSAGE(dim_in=128, dim_h=64, dim_out=2)\n",
    "    model.fit(epochs=200, batch_loader=batch_loader)\n"
   ]
  },
  {
   "attachments": {},
   "cell_type": "markdown",
   "metadata": {},
   "source": [
    "## Predict"
   ]
  },
  {
   "cell_type": "code",
   "execution_count": 17,
   "metadata": {},
   "outputs": [
    {
     "name": "stdout",
     "output_type": "stream",
     "text": [
      "Batch accuracy: 0.8799999952316284\n",
      "Batch accuracy: 0.9020000100135803\n",
      "Batch accuracy: 0.875\n",
      "Batch accuracy: 0.8640000224113464\n",
      "Batch accuracy: 0.890999972820282\n",
      "Batch accuracy: 0.902999997138977\n",
      "Batch accuracy: 0.8679999709129333\n",
      "Batch accuracy: 0.8799999952316284\n",
      "Batch accuracy: 0.8899999856948853\n",
      "Batch accuracy: 0.8840000033378601\n",
      "Batch accuracy: 0.9010000228881836\n",
      "Batch accuracy: 0.9010000228881836\n",
      "Batch accuracy: 0.8899999856948853\n",
      "Batch accuracy: 0.8939999938011169\n",
      "Batch accuracy: 0.871999979019165\n",
      "Batch accuracy: 0.8820000290870667\n",
      "Batch accuracy: 0.921999990940094\n",
      "Batch accuracy: 0.8700000047683716\n",
      "Batch accuracy: 0.8610000014305115\n",
      "Batch accuracy: 0.9020000100135803\n",
      "Batch accuracy: 0.9020000100135803\n",
      "Batch accuracy: 0.9010000228881836\n",
      "Batch accuracy: 0.9110000133514404\n",
      "Batch accuracy: 0.8960000276565552\n",
      "Batch accuracy: 0.8899999856948853\n",
      "Batch accuracy: 0.9190000295639038\n",
      "Batch accuracy: 0.9279999732971191\n",
      "Batch accuracy: 0.906000018119812\n",
      "Batch accuracy: 0.8820000290870667\n",
      "Batch accuracy: 0.8960000276565552\n",
      "Batch accuracy: 0.8820000290870667\n",
      "Batch accuracy: 0.8730000257492065\n",
      "Batch accuracy: 0.8939999938011169\n",
      "Batch accuracy: 0.9049999713897705\n",
      "Batch accuracy: 0.9179999828338623\n",
      "Batch accuracy: 0.8889999985694885\n",
      "Batch accuracy: 0.890999972820282\n",
      "Batch accuracy: 0.9070000052452087\n",
      "Mean accuracy: 0.8926842134249838\n"
     ]
    }
   ],
   "source": [
    "with MDBClient(host=\"127.0.0.1\", port=8080) as client:\n",
    "    PRED_BATCH_SIZE = 1000\n",
    "    batch_loader = BatchLoader(\n",
    "        client=client,\n",
    "        feature_store_name=\"github\",\n",
    "        num_seeds=sys.maxsize,\n",
    "        batch_size=PRED_BATCH_SIZE,\n",
    "        neighbor_sizes=[10, 5],\n",
    "        seed=2023,\n",
    "    )\n",
    "\n",
    "    accuracy = lambda y_pred, y: ((y_pred == y).sum() / len(y)).item()\n",
    "    results = list()\n",
    "    for batch in batch_loader:\n",
    "        emb, out = model.predict(batch.node_features, batch.edge_index)\n",
    "        y_pred = out[:PRED_BATCH_SIZE].argmax(axis=1)\n",
    "        y_true = batch.node_labels[:PRED_BATCH_SIZE]\n",
    "        acc = accuracy(y_pred, y_true)\n",
    "        results.append(acc)\n",
    "        print(f\"Batch accuracy: {acc}\")\n",
    "\n",
    "    print(f\"Mean accuracy: {sum(results) / len(results)}\")"
   ]
  },
  {
   "cell_type": "code",
   "execution_count": 12,
   "metadata": {},
   "outputs": [
    {
     "ename": "TypeError",
     "evalue": "object of type 'int' has no len()",
     "output_type": "error",
     "traceback": [
      "\u001b[0;31m---------------------------------------------------------------------------\u001b[0m",
      "\u001b[0;31mTypeError\u001b[0m                                 Traceback (most recent call last)",
      "Cell \u001b[0;32mIn[12], line 5\u001b[0m\n\u001b[1;32m      3\u001b[0m \u001b[39mwith\u001b[39;00m MDBClient(host\u001b[39m=\u001b[39m\u001b[39m\"\u001b[39m\u001b[39m127.0.0.1\u001b[39m\u001b[39m\"\u001b[39m, port\u001b[39m=\u001b[39m\u001b[39m8080\u001b[39m) \u001b[39mas\u001b[39;00m client:\n\u001b[1;32m      4\u001b[0m     fs_manager \u001b[39m=\u001b[39m FeatureStoreManager(client)\n\u001b[0;32m----> 5\u001b[0m     fs \u001b[39m=\u001b[39m fs_manager\u001b[39m.\u001b[39;49mopen(\u001b[39m17941\u001b[39;49m)\n\u001b[1;32m      6\u001b[0m     fs\u001b[39m.\u001b[39mget_tensor(\u001b[39m1\u001b[39m)\n",
      "File \u001b[0;32m~/PyMDB/examples/../pymdb/feature_store_manager.py:19\u001b[0m, in \u001b[0;36mFeatureStoreManager.open\u001b[0;34m(self, name)\u001b[0m\n\u001b[1;32m     17\u001b[0m msg \u001b[39m=\u001b[39m \u001b[39mb\u001b[39m\u001b[39m\"\u001b[39m\u001b[39m\"\u001b[39m\n\u001b[1;32m     18\u001b[0m msg \u001b[39m+\u001b[39m\u001b[39m=\u001b[39m packer\u001b[39m.\u001b[39mpack_byte(RequestType\u001b[39m.\u001b[39mFEATURE_STORE_MANAGER_OPEN)\n\u001b[0;32m---> 19\u001b[0m msg \u001b[39m+\u001b[39m\u001b[39m=\u001b[39m packer\u001b[39m.\u001b[39mpack_uint64(\u001b[39mlen\u001b[39;49m(name))\n\u001b[1;32m     20\u001b[0m msg \u001b[39m+\u001b[39m\u001b[39m=\u001b[39m packer\u001b[39m.\u001b[39mpack_string(name)\n\u001b[1;32m     21\u001b[0m \u001b[39mself\u001b[39m\u001b[39m.\u001b[39mclient\u001b[39m.\u001b[39m_send(msg)\n",
      "\u001b[0;31mTypeError\u001b[0m: object of type 'int' has no len()"
     ]
    }
   ],
   "source": [
    "from pymdb import FeatureStoreManager\n",
    "\n",
    "with MDBClient(host=\"127.0.0.1\", port=8080) as client:\n",
    "    print(\"a\")\n"
   ]
  },
  {
   "cell_type": "code",
   "execution_count": 13,
   "metadata": {},
   "outputs": [
    {
     "name": "stdout",
     "output_type": "stream",
     "text": [
      "Graph(node_features=[8708, 128] node_labels=[8708] edge_index=[2, 15813])\n"
     ]
    }
   ],
   "source": [
    "print(batch)"
   ]
  }
 ],
 "metadata": {
  "kernelspec": {
   "display_name": "Python 3",
   "language": "python",
   "name": "python3"
  },
  "language_info": {
   "codemirror_mode": {
    "name": "ipython",
    "version": 3
   },
   "file_extension": ".py",
   "mimetype": "text/x-python",
   "name": "python",
   "nbconvert_exporter": "python",
   "pygments_lexer": "ipython3",
   "version": "3.10.6"
  },
  "orig_nbformat": 4,
  "vscode": {
   "interpreter": {
    "hash": "31f2aee4e71d21fbe5cf8b01ff0e069b9275f58929596ceb00d14d90e3e16cd6"
   }
  }
 },
 "nbformat": 4,
 "nbformat_minor": 2
}
