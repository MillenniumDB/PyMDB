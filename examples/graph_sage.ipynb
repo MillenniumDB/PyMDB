{
 "cells": [
  {
   "attachments": {},
   "cell_type": "markdown",
   "metadata": {},
   "source": [
    "# GraphSAGE"
   ]
  },
  {
   "cell_type": "code",
   "execution_count": 15,
   "metadata": {},
   "outputs": [],
   "source": [
    "# Necessary to import from sibling directory\n",
    "import sys\n",
    "sys.path.append(\"..\")\n",
    "\n",
    "from pymdb import MDBClient, BatchLoader, NodeIterator, FeatureStoreManager\n",
    "\n",
    "import torch\n",
    "import torch.nn.functional as F\n",
    "from torch_geometric.nn import SAGEConv\n"
   ]
  },
  {
   "attachments": {},
   "cell_type": "markdown",
   "metadata": {},
   "source": [
    "## Model"
   ]
  },
  {
   "cell_type": "code",
   "execution_count": 18,
   "metadata": {},
   "outputs": [],
   "source": [
    "class GraphSAGE(torch.nn.Module):\n",
    "    def __init__(self, dim_in: int, dim_h: int, dim_out: int, num_layers: int):\n",
    "        super().__init__()\n",
    "        if num_layers < 2:\n",
    "            raise ValueError(\"Number of layers must be greater than 1\")\n",
    "        self.layers = torch.nn.ModuleList()\n",
    "        self.layers.append(SAGEConv(dim_in, dim_h))\n",
    "        for _ in range(num_layers - 2):\n",
    "            self.layers.append(SAGEConv(dim_h, dim_h))\n",
    "        self.layers.append(SAGEConv(dim_h, dim_out))\n",
    "\n",
    "    def forward(\n",
    "        self,\n",
    "        node_features: torch.Tensor,  # [num_nodes, feature_size]\n",
    "        edge_index: torch.Tensor,  # [2, feature_size]\n",
    "    ):\n",
    "        h = node_features\n",
    "        for layer in self.layers[:-1]:\n",
    "            h = layer(h, edge_index)\n",
    "            h = F.relu(h)\n",
    "            h = F.dropout(h, p=0.5, training=self.training)\n",
    "        h = self.layers[-1](h, edge_index)\n",
    "        return h, F.log_softmax(h, dim=1)  # (embedding, prediction)\n",
    "\n",
    "    def train(self, epochs, batch_loader):\n",
    "        self.train()\n",
    "        criterion = torch.nn.CrossEntropyLoss()\n",
    "        optimizer = torch.optim.Adam(self.parameters(), lr=0.01, weight_decay=5e-4)\n",
    "        accuracy = lambda y_pred, y: ((y_pred == y).sum() / len(y)).item()\n",
    "        for epoch in range(epochs + 1):\n",
    "            # Train on batches\n",
    "            for batch in batch_loader:\n",
    "                optimizer.zero_grad()\n",
    "                _, out = self(batch.node_features, batch.edge_index)\n",
    "\n",
    "                loss = criterion(out, batch.node_labels)\n",
    "                acc = accuracy(out.argmax(dim=1), batch.node_labels)\n",
    "\n",
    "                loss.backward()\n",
    "                optimizer.step()\n",
    "\n",
    "            # Print metrics every 50 epochs\n",
    "            if epoch % 50 == 0:\n",
    "                print(\n",
    "                    f\"Epoch: {epoch:>3} | Train loss: {loss:.3f} | Train acc: {acc*100:>6.2f}%\"\n",
    "                )\n",
    "\n",
    "    def predict(\n",
    "        self,\n",
    "        initial_feature_store_name: str,\n",
    "        final_feature_store_name: str,\n",
    "        sampler: \"Sampler\",\n",
    "        node_iterator: \"NodeIterator\",\n",
    "    ):\n",
    "        \"\"\"\n",
    "        Maybe it would be better to use something like a batch loader that receives a\n",
    "        batch of node_ids as seed nodes and return a subgraph where:\n",
    "        1. The first node_ids.size() features are the seed nodes features on the same order\n",
    "        2. The remaining nodes are the neighbors of the seed nodes at depth 1\n",
    "        3. The edges are the ones between the seed nodes and their neighbors\n",
    "\n",
    "        Then the output would be the slice of the matrix [0:node_ids.size()]\n",
    "\n",
    "        Notes:\n",
    "        - Batches should have the original node_ids for storing the embeddings\n",
    "        - Maybe FeatureStore should be closed after each usage in both batch loader and\n",
    "          node iterator. This is because during the evaluation it will be modified and\n",
    "          the changes should be saved between iterations\n",
    "        - Maybe it is necessary to check if FeatureStore is closed before using it\n",
    "          throwing an exception from C++\n",
    "        \"\"\"\n",
    "        self.eval()\n",
    "        # Pseudocode!\n",
    "\n",
    "        # check stores exist\n",
    "\n",
    "        prev_store = FeatureStore(\"temp1\", self.dim_h)\n",
    "        curr_store = FeatureStore(\"temp2\", self.dim_h)\n",
    "        final_store = FeatureStore(final_feature_store_name, self.dim_out)\n",
    "\n",
    "        for batch in NodeIterator(initial_feature_store_name):\n",
    "            h, _ = self(batch.node_features, batch.edge_index)\n",
    "            prev_store[batch.node_ids] = h  # TODO: Implement this feature (multi_insert_tensor)\n",
    "\n",
    "        # From now the variable prev_store is used for READ ONLY, while curr_store is \n",
    "        # used for WRITE ONLY\n",
    "        for layer in self.layers[1:-1]:\n",
    "            for batch in NodeIterator(prev_store.name):\n",
    "                h, _ = layer(batch.node_features, batch.edge_index)\n",
    "                h = F.relu(h)\n",
    "                h = F.dropout(h, p=0.5, training=self.training)\n",
    "                curr_store[batch.node_ids] = h  # TODO: Implement this feature (multi_insert_tensor)\n",
    "            # Swap store references\n",
    "            prev_store, curr_store = curr_store, prev_store\n",
    "\n",
    "        for batch in NodeIterator(prev_store.name):\n",
    "            h, _ = self.layers[-1](node_features, edge_index)\n",
    "            final_store[batch.node_ids] = h  # TODO: Implement this feature (multi_insert_tensor)\n"
   ]
  },
  {
   "attachments": {},
   "cell_type": "markdown",
   "metadata": {},
   "source": [
    "## Train"
   ]
  },
  {
   "cell_type": "code",
   "execution_count": 19,
   "metadata": {},
   "outputs": [
    {
     "name": "stdout",
     "output_type": "stream",
     "text": [
      "GraphSAGE(\n",
      "  (layers): ModuleList(\n",
      "    (0): SAGEConv(128, 64, aggr=mean)\n",
      "    (1): SAGEConv(64, 64, aggr=mean)\n",
      "    (2): SAGEConv(64, 64, aggr=mean)\n",
      "    (3): SAGEConv(64, 64, aggr=mean)\n",
      "    (4): SAGEConv(64, 2, aggr=mean)\n",
      "  )\n",
      ")\n",
      "Epoch:   0 | Train loss: 0.478 | Train acc:  83.86%\n",
      "Epoch:  50 | Train loss: 0.259 | Train acc:  90.13%\n"
     ]
    }
   ],
   "source": [
    "with MDBClient() as client:\n",
    "    batch_loader = BatchLoader(\n",
    "        client=client,\n",
    "        feature_store_name=\"github\",\n",
    "        num_seeds=256,\n",
    "        batch_size=64,\n",
    "        neighbor_sizes=[10, 5],\n",
    "        seed=2023,\n",
    "    )\n",
    "\n",
    "    model = GraphSAGE(dim_in=128, dim_h=64, dim_out=2, num_layers=5)\n",
    "    print(model)\n",
    "    model.train(epochs=50, batch_loader=batch_loader)\n"
   ]
  },
  {
   "attachments": {},
   "cell_type": "markdown",
   "metadata": {},
   "source": [
    "## Predict"
   ]
  },
  {
   "cell_type": "code",
   "execution_count": 14,
   "metadata": {},
   "outputs": [],
   "source": [
    "with MDBClient() as client:\n",
    "    fsm = FeatureStoreManager(client)\n",
    "\n",
    "    with fsm.open(\"github\") as fs:\n",
    "        for batch in NodeIterator(client, 5000):\n",
    "            node_ids, edge_index = expand_neighbors(batch)\n",
    "        \n",
    "            node_features = fs[neighborhood]\n",
    "\n",
    "            embedding, prediction = model.predict(node_features, edge_index)\n",
    "\n"
   ]
  }
 ],
 "metadata": {
  "kernelspec": {
   "display_name": "Python 3",
   "language": "python",
   "name": "python3"
  },
  "language_info": {
   "codemirror_mode": {
    "name": "ipython",
    "version": 3
   },
   "file_extension": ".py",
   "mimetype": "text/x-python",
   "name": "python",
   "nbconvert_exporter": "python",
   "pygments_lexer": "ipython3",
   "version": "3.10.6"
  },
  "orig_nbformat": 4,
  "vscode": {
   "interpreter": {
    "hash": "31f2aee4e71d21fbe5cf8b01ff0e069b9275f58929596ceb00d14d90e3e16cd6"
   }
  }
 },
 "nbformat": 4,
 "nbformat_minor": 2
}
